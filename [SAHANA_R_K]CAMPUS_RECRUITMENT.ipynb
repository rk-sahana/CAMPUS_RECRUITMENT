{
  "nbformat": 4,
  "nbformat_minor": 0,
  "metadata": {
    "colab": {
      "name": "[SAHANA_R_K]CAMPUS_RECRUITMENT.ipynb",
      "provenance": [],
      "collapsed_sections": []
    },
    "kernelspec": {
      "name": "python3",
      "display_name": "Python 3"
    },
    "language_info": {
      "name": "python"
    }
  },
  "cells": [
    {
      "cell_type": "markdown",
      "metadata": {
        "id": "UNmaRNo8dWui"
      },
      "source": [
        "Import The necessary Libraries"
      ]
    },
    {
      "cell_type": "code",
      "metadata": {
        "id": "B7XFQC7_dZ5h"
      },
      "source": [
        "import pandas as pd\n",
        "import matplotlib.pyplot as plt"
      ],
      "execution_count": null,
      "outputs": []
    },
    {
      "cell_type": "code",
      "metadata": {
        "id": "0vLfyHf5di7v"
      },
      "source": [
        "data=pd.read_csv(\"/content/Placement_Data_Full_Class.csv\")"
      ],
      "execution_count": null,
      "outputs": []
    },
    {
      "cell_type": "code",
      "metadata": {
        "colab": {
          "base_uri": "https://localhost:8080/",
          "height": 402
        },
        "id": "R30CtGf0dq3V",
        "outputId": "6e523f00-808a-4e22-ed49-d9482938cb46"
      },
      "source": [
        "data"
      ],
      "execution_count": null,
      "outputs": [
        {
          "output_type": "execute_result",
          "data": {
            "text/html": [
              "<div>\n",
              "<style scoped>\n",
              "    .dataframe tbody tr th:only-of-type {\n",
              "        vertical-align: middle;\n",
              "    }\n",
              "\n",
              "    .dataframe tbody tr th {\n",
              "        vertical-align: top;\n",
              "    }\n",
              "\n",
              "    .dataframe thead th {\n",
              "        text-align: right;\n",
              "    }\n",
              "</style>\n",
              "<table border=\"1\" class=\"dataframe\">\n",
              "  <thead>\n",
              "    <tr style=\"text-align: right;\">\n",
              "      <th></th>\n",
              "      <th>sl_no</th>\n",
              "      <th>gender</th>\n",
              "      <th>ssc_p</th>\n",
              "      <th>ssc_b</th>\n",
              "      <th>hsc_p</th>\n",
              "      <th>hsc_b</th>\n",
              "      <th>hsc_s</th>\n",
              "      <th>degree_p</th>\n",
              "      <th>degree_t</th>\n",
              "      <th>workex</th>\n",
              "      <th>etest_p</th>\n",
              "      <th>specialisation</th>\n",
              "      <th>mba_p</th>\n",
              "      <th>status</th>\n",
              "      <th>salary</th>\n",
              "    </tr>\n",
              "  </thead>\n",
              "  <tbody>\n",
              "    <tr>\n",
              "      <th>0</th>\n",
              "      <td>1</td>\n",
              "      <td>M</td>\n",
              "      <td>67.00</td>\n",
              "      <td>Others</td>\n",
              "      <td>91.00</td>\n",
              "      <td>Others</td>\n",
              "      <td>Commerce</td>\n",
              "      <td>58.00</td>\n",
              "      <td>Sci&amp;Tech</td>\n",
              "      <td>No</td>\n",
              "      <td>55.0</td>\n",
              "      <td>Mkt&amp;HR</td>\n",
              "      <td>58.80</td>\n",
              "      <td>Placed</td>\n",
              "      <td>270000.0</td>\n",
              "    </tr>\n",
              "    <tr>\n",
              "      <th>1</th>\n",
              "      <td>2</td>\n",
              "      <td>M</td>\n",
              "      <td>79.33</td>\n",
              "      <td>Central</td>\n",
              "      <td>78.33</td>\n",
              "      <td>Others</td>\n",
              "      <td>Science</td>\n",
              "      <td>77.48</td>\n",
              "      <td>Sci&amp;Tech</td>\n",
              "      <td>Yes</td>\n",
              "      <td>86.5</td>\n",
              "      <td>Mkt&amp;Fin</td>\n",
              "      <td>66.28</td>\n",
              "      <td>Placed</td>\n",
              "      <td>200000.0</td>\n",
              "    </tr>\n",
              "    <tr>\n",
              "      <th>2</th>\n",
              "      <td>3</td>\n",
              "      <td>M</td>\n",
              "      <td>65.00</td>\n",
              "      <td>Central</td>\n",
              "      <td>68.00</td>\n",
              "      <td>Central</td>\n",
              "      <td>Arts</td>\n",
              "      <td>64.00</td>\n",
              "      <td>Comm&amp;Mgmt</td>\n",
              "      <td>No</td>\n",
              "      <td>75.0</td>\n",
              "      <td>Mkt&amp;Fin</td>\n",
              "      <td>57.80</td>\n",
              "      <td>Placed</td>\n",
              "      <td>250000.0</td>\n",
              "    </tr>\n",
              "    <tr>\n",
              "      <th>3</th>\n",
              "      <td>4</td>\n",
              "      <td>M</td>\n",
              "      <td>56.00</td>\n",
              "      <td>Central</td>\n",
              "      <td>52.00</td>\n",
              "      <td>Central</td>\n",
              "      <td>Science</td>\n",
              "      <td>52.00</td>\n",
              "      <td>Sci&amp;Tech</td>\n",
              "      <td>No</td>\n",
              "      <td>66.0</td>\n",
              "      <td>Mkt&amp;HR</td>\n",
              "      <td>59.43</td>\n",
              "      <td>Not Placed</td>\n",
              "      <td>NaN</td>\n",
              "    </tr>\n",
              "    <tr>\n",
              "      <th>4</th>\n",
              "      <td>5</td>\n",
              "      <td>M</td>\n",
              "      <td>85.80</td>\n",
              "      <td>Central</td>\n",
              "      <td>73.60</td>\n",
              "      <td>Central</td>\n",
              "      <td>Commerce</td>\n",
              "      <td>73.30</td>\n",
              "      <td>Comm&amp;Mgmt</td>\n",
              "      <td>No</td>\n",
              "      <td>96.8</td>\n",
              "      <td>Mkt&amp;Fin</td>\n",
              "      <td>55.50</td>\n",
              "      <td>Placed</td>\n",
              "      <td>425000.0</td>\n",
              "    </tr>\n",
              "    <tr>\n",
              "      <th>...</th>\n",
              "      <td>...</td>\n",
              "      <td>...</td>\n",
              "      <td>...</td>\n",
              "      <td>...</td>\n",
              "      <td>...</td>\n",
              "      <td>...</td>\n",
              "      <td>...</td>\n",
              "      <td>...</td>\n",
              "      <td>...</td>\n",
              "      <td>...</td>\n",
              "      <td>...</td>\n",
              "      <td>...</td>\n",
              "      <td>...</td>\n",
              "      <td>...</td>\n",
              "      <td>...</td>\n",
              "    </tr>\n",
              "    <tr>\n",
              "      <th>210</th>\n",
              "      <td>211</td>\n",
              "      <td>M</td>\n",
              "      <td>80.60</td>\n",
              "      <td>Others</td>\n",
              "      <td>82.00</td>\n",
              "      <td>Others</td>\n",
              "      <td>Commerce</td>\n",
              "      <td>77.60</td>\n",
              "      <td>Comm&amp;Mgmt</td>\n",
              "      <td>No</td>\n",
              "      <td>91.0</td>\n",
              "      <td>Mkt&amp;Fin</td>\n",
              "      <td>74.49</td>\n",
              "      <td>Placed</td>\n",
              "      <td>400000.0</td>\n",
              "    </tr>\n",
              "    <tr>\n",
              "      <th>211</th>\n",
              "      <td>212</td>\n",
              "      <td>M</td>\n",
              "      <td>58.00</td>\n",
              "      <td>Others</td>\n",
              "      <td>60.00</td>\n",
              "      <td>Others</td>\n",
              "      <td>Science</td>\n",
              "      <td>72.00</td>\n",
              "      <td>Sci&amp;Tech</td>\n",
              "      <td>No</td>\n",
              "      <td>74.0</td>\n",
              "      <td>Mkt&amp;Fin</td>\n",
              "      <td>53.62</td>\n",
              "      <td>Placed</td>\n",
              "      <td>275000.0</td>\n",
              "    </tr>\n",
              "    <tr>\n",
              "      <th>212</th>\n",
              "      <td>213</td>\n",
              "      <td>M</td>\n",
              "      <td>67.00</td>\n",
              "      <td>Others</td>\n",
              "      <td>67.00</td>\n",
              "      <td>Others</td>\n",
              "      <td>Commerce</td>\n",
              "      <td>73.00</td>\n",
              "      <td>Comm&amp;Mgmt</td>\n",
              "      <td>Yes</td>\n",
              "      <td>59.0</td>\n",
              "      <td>Mkt&amp;Fin</td>\n",
              "      <td>69.72</td>\n",
              "      <td>Placed</td>\n",
              "      <td>295000.0</td>\n",
              "    </tr>\n",
              "    <tr>\n",
              "      <th>213</th>\n",
              "      <td>214</td>\n",
              "      <td>F</td>\n",
              "      <td>74.00</td>\n",
              "      <td>Others</td>\n",
              "      <td>66.00</td>\n",
              "      <td>Others</td>\n",
              "      <td>Commerce</td>\n",
              "      <td>58.00</td>\n",
              "      <td>Comm&amp;Mgmt</td>\n",
              "      <td>No</td>\n",
              "      <td>70.0</td>\n",
              "      <td>Mkt&amp;HR</td>\n",
              "      <td>60.23</td>\n",
              "      <td>Placed</td>\n",
              "      <td>204000.0</td>\n",
              "    </tr>\n",
              "    <tr>\n",
              "      <th>214</th>\n",
              "      <td>215</td>\n",
              "      <td>M</td>\n",
              "      <td>62.00</td>\n",
              "      <td>Central</td>\n",
              "      <td>58.00</td>\n",
              "      <td>Others</td>\n",
              "      <td>Science</td>\n",
              "      <td>53.00</td>\n",
              "      <td>Comm&amp;Mgmt</td>\n",
              "      <td>No</td>\n",
              "      <td>89.0</td>\n",
              "      <td>Mkt&amp;HR</td>\n",
              "      <td>60.22</td>\n",
              "      <td>Not Placed</td>\n",
              "      <td>NaN</td>\n",
              "    </tr>\n",
              "  </tbody>\n",
              "</table>\n",
              "<p>215 rows × 15 columns</p>\n",
              "</div>"
            ],
            "text/plain": [
              "     sl_no gender  ssc_p    ssc_b  ...  specialisation  mba_p      status    salary\n",
              "0        1      M  67.00   Others  ...          Mkt&HR  58.80      Placed  270000.0\n",
              "1        2      M  79.33  Central  ...         Mkt&Fin  66.28      Placed  200000.0\n",
              "2        3      M  65.00  Central  ...         Mkt&Fin  57.80      Placed  250000.0\n",
              "3        4      M  56.00  Central  ...          Mkt&HR  59.43  Not Placed       NaN\n",
              "4        5      M  85.80  Central  ...         Mkt&Fin  55.50      Placed  425000.0\n",
              "..     ...    ...    ...      ...  ...             ...    ...         ...       ...\n",
              "210    211      M  80.60   Others  ...         Mkt&Fin  74.49      Placed  400000.0\n",
              "211    212      M  58.00   Others  ...         Mkt&Fin  53.62      Placed  275000.0\n",
              "212    213      M  67.00   Others  ...         Mkt&Fin  69.72      Placed  295000.0\n",
              "213    214      F  74.00   Others  ...          Mkt&HR  60.23      Placed  204000.0\n",
              "214    215      M  62.00  Central  ...          Mkt&HR  60.22  Not Placed       NaN\n",
              "\n",
              "[215 rows x 15 columns]"
            ]
          },
          "metadata": {
            "tags": []
          },
          "execution_count": 230
        }
      ]
    },
    {
      "cell_type": "code",
      "metadata": {
        "colab": {
          "base_uri": "https://localhost:8080/",
          "height": 195
        },
        "id": "It2YOiQ9ds_Y",
        "outputId": "4f142c91-d056-44ca-f803-c0fda11e4c48"
      },
      "source": [
        "data.head()"
      ],
      "execution_count": null,
      "outputs": [
        {
          "output_type": "execute_result",
          "data": {
            "text/html": [
              "<div>\n",
              "<style scoped>\n",
              "    .dataframe tbody tr th:only-of-type {\n",
              "        vertical-align: middle;\n",
              "    }\n",
              "\n",
              "    .dataframe tbody tr th {\n",
              "        vertical-align: top;\n",
              "    }\n",
              "\n",
              "    .dataframe thead th {\n",
              "        text-align: right;\n",
              "    }\n",
              "</style>\n",
              "<table border=\"1\" class=\"dataframe\">\n",
              "  <thead>\n",
              "    <tr style=\"text-align: right;\">\n",
              "      <th></th>\n",
              "      <th>sl_no</th>\n",
              "      <th>gender</th>\n",
              "      <th>ssc_p</th>\n",
              "      <th>ssc_b</th>\n",
              "      <th>hsc_p</th>\n",
              "      <th>hsc_b</th>\n",
              "      <th>hsc_s</th>\n",
              "      <th>degree_p</th>\n",
              "      <th>degree_t</th>\n",
              "      <th>workex</th>\n",
              "      <th>etest_p</th>\n",
              "      <th>specialisation</th>\n",
              "      <th>mba_p</th>\n",
              "      <th>status</th>\n",
              "      <th>salary</th>\n",
              "    </tr>\n",
              "  </thead>\n",
              "  <tbody>\n",
              "    <tr>\n",
              "      <th>0</th>\n",
              "      <td>1</td>\n",
              "      <td>M</td>\n",
              "      <td>67.00</td>\n",
              "      <td>Others</td>\n",
              "      <td>91.00</td>\n",
              "      <td>Others</td>\n",
              "      <td>Commerce</td>\n",
              "      <td>58.00</td>\n",
              "      <td>Sci&amp;Tech</td>\n",
              "      <td>No</td>\n",
              "      <td>55.0</td>\n",
              "      <td>Mkt&amp;HR</td>\n",
              "      <td>58.80</td>\n",
              "      <td>Placed</td>\n",
              "      <td>270000.0</td>\n",
              "    </tr>\n",
              "    <tr>\n",
              "      <th>1</th>\n",
              "      <td>2</td>\n",
              "      <td>M</td>\n",
              "      <td>79.33</td>\n",
              "      <td>Central</td>\n",
              "      <td>78.33</td>\n",
              "      <td>Others</td>\n",
              "      <td>Science</td>\n",
              "      <td>77.48</td>\n",
              "      <td>Sci&amp;Tech</td>\n",
              "      <td>Yes</td>\n",
              "      <td>86.5</td>\n",
              "      <td>Mkt&amp;Fin</td>\n",
              "      <td>66.28</td>\n",
              "      <td>Placed</td>\n",
              "      <td>200000.0</td>\n",
              "    </tr>\n",
              "    <tr>\n",
              "      <th>2</th>\n",
              "      <td>3</td>\n",
              "      <td>M</td>\n",
              "      <td>65.00</td>\n",
              "      <td>Central</td>\n",
              "      <td>68.00</td>\n",
              "      <td>Central</td>\n",
              "      <td>Arts</td>\n",
              "      <td>64.00</td>\n",
              "      <td>Comm&amp;Mgmt</td>\n",
              "      <td>No</td>\n",
              "      <td>75.0</td>\n",
              "      <td>Mkt&amp;Fin</td>\n",
              "      <td>57.80</td>\n",
              "      <td>Placed</td>\n",
              "      <td>250000.0</td>\n",
              "    </tr>\n",
              "    <tr>\n",
              "      <th>3</th>\n",
              "      <td>4</td>\n",
              "      <td>M</td>\n",
              "      <td>56.00</td>\n",
              "      <td>Central</td>\n",
              "      <td>52.00</td>\n",
              "      <td>Central</td>\n",
              "      <td>Science</td>\n",
              "      <td>52.00</td>\n",
              "      <td>Sci&amp;Tech</td>\n",
              "      <td>No</td>\n",
              "      <td>66.0</td>\n",
              "      <td>Mkt&amp;HR</td>\n",
              "      <td>59.43</td>\n",
              "      <td>Not Placed</td>\n",
              "      <td>NaN</td>\n",
              "    </tr>\n",
              "    <tr>\n",
              "      <th>4</th>\n",
              "      <td>5</td>\n",
              "      <td>M</td>\n",
              "      <td>85.80</td>\n",
              "      <td>Central</td>\n",
              "      <td>73.60</td>\n",
              "      <td>Central</td>\n",
              "      <td>Commerce</td>\n",
              "      <td>73.30</td>\n",
              "      <td>Comm&amp;Mgmt</td>\n",
              "      <td>No</td>\n",
              "      <td>96.8</td>\n",
              "      <td>Mkt&amp;Fin</td>\n",
              "      <td>55.50</td>\n",
              "      <td>Placed</td>\n",
              "      <td>425000.0</td>\n",
              "    </tr>\n",
              "  </tbody>\n",
              "</table>\n",
              "</div>"
            ],
            "text/plain": [
              "   sl_no gender  ssc_p    ssc_b  ...  specialisation  mba_p      status    salary\n",
              "0      1      M  67.00   Others  ...          Mkt&HR  58.80      Placed  270000.0\n",
              "1      2      M  79.33  Central  ...         Mkt&Fin  66.28      Placed  200000.0\n",
              "2      3      M  65.00  Central  ...         Mkt&Fin  57.80      Placed  250000.0\n",
              "3      4      M  56.00  Central  ...          Mkt&HR  59.43  Not Placed       NaN\n",
              "4      5      M  85.80  Central  ...         Mkt&Fin  55.50      Placed  425000.0\n",
              "\n",
              "[5 rows x 15 columns]"
            ]
          },
          "metadata": {
            "tags": []
          },
          "execution_count": 231
        }
      ]
    },
    {
      "cell_type": "code",
      "metadata": {
        "colab": {
          "base_uri": "https://localhost:8080/",
          "height": 195
        },
        "id": "2CijDHRXdvmY",
        "outputId": "2fe1bf01-3967-4232-c1c8-dff8b8cf6252"
      },
      "source": [
        "data.tail()"
      ],
      "execution_count": null,
      "outputs": [
        {
          "output_type": "execute_result",
          "data": {
            "text/html": [
              "<div>\n",
              "<style scoped>\n",
              "    .dataframe tbody tr th:only-of-type {\n",
              "        vertical-align: middle;\n",
              "    }\n",
              "\n",
              "    .dataframe tbody tr th {\n",
              "        vertical-align: top;\n",
              "    }\n",
              "\n",
              "    .dataframe thead th {\n",
              "        text-align: right;\n",
              "    }\n",
              "</style>\n",
              "<table border=\"1\" class=\"dataframe\">\n",
              "  <thead>\n",
              "    <tr style=\"text-align: right;\">\n",
              "      <th></th>\n",
              "      <th>sl_no</th>\n",
              "      <th>gender</th>\n",
              "      <th>ssc_p</th>\n",
              "      <th>ssc_b</th>\n",
              "      <th>hsc_p</th>\n",
              "      <th>hsc_b</th>\n",
              "      <th>hsc_s</th>\n",
              "      <th>degree_p</th>\n",
              "      <th>degree_t</th>\n",
              "      <th>workex</th>\n",
              "      <th>etest_p</th>\n",
              "      <th>specialisation</th>\n",
              "      <th>mba_p</th>\n",
              "      <th>status</th>\n",
              "      <th>salary</th>\n",
              "    </tr>\n",
              "  </thead>\n",
              "  <tbody>\n",
              "    <tr>\n",
              "      <th>210</th>\n",
              "      <td>211</td>\n",
              "      <td>M</td>\n",
              "      <td>80.6</td>\n",
              "      <td>Others</td>\n",
              "      <td>82.0</td>\n",
              "      <td>Others</td>\n",
              "      <td>Commerce</td>\n",
              "      <td>77.6</td>\n",
              "      <td>Comm&amp;Mgmt</td>\n",
              "      <td>No</td>\n",
              "      <td>91.0</td>\n",
              "      <td>Mkt&amp;Fin</td>\n",
              "      <td>74.49</td>\n",
              "      <td>Placed</td>\n",
              "      <td>400000.0</td>\n",
              "    </tr>\n",
              "    <tr>\n",
              "      <th>211</th>\n",
              "      <td>212</td>\n",
              "      <td>M</td>\n",
              "      <td>58.0</td>\n",
              "      <td>Others</td>\n",
              "      <td>60.0</td>\n",
              "      <td>Others</td>\n",
              "      <td>Science</td>\n",
              "      <td>72.0</td>\n",
              "      <td>Sci&amp;Tech</td>\n",
              "      <td>No</td>\n",
              "      <td>74.0</td>\n",
              "      <td>Mkt&amp;Fin</td>\n",
              "      <td>53.62</td>\n",
              "      <td>Placed</td>\n",
              "      <td>275000.0</td>\n",
              "    </tr>\n",
              "    <tr>\n",
              "      <th>212</th>\n",
              "      <td>213</td>\n",
              "      <td>M</td>\n",
              "      <td>67.0</td>\n",
              "      <td>Others</td>\n",
              "      <td>67.0</td>\n",
              "      <td>Others</td>\n",
              "      <td>Commerce</td>\n",
              "      <td>73.0</td>\n",
              "      <td>Comm&amp;Mgmt</td>\n",
              "      <td>Yes</td>\n",
              "      <td>59.0</td>\n",
              "      <td>Mkt&amp;Fin</td>\n",
              "      <td>69.72</td>\n",
              "      <td>Placed</td>\n",
              "      <td>295000.0</td>\n",
              "    </tr>\n",
              "    <tr>\n",
              "      <th>213</th>\n",
              "      <td>214</td>\n",
              "      <td>F</td>\n",
              "      <td>74.0</td>\n",
              "      <td>Others</td>\n",
              "      <td>66.0</td>\n",
              "      <td>Others</td>\n",
              "      <td>Commerce</td>\n",
              "      <td>58.0</td>\n",
              "      <td>Comm&amp;Mgmt</td>\n",
              "      <td>No</td>\n",
              "      <td>70.0</td>\n",
              "      <td>Mkt&amp;HR</td>\n",
              "      <td>60.23</td>\n",
              "      <td>Placed</td>\n",
              "      <td>204000.0</td>\n",
              "    </tr>\n",
              "    <tr>\n",
              "      <th>214</th>\n",
              "      <td>215</td>\n",
              "      <td>M</td>\n",
              "      <td>62.0</td>\n",
              "      <td>Central</td>\n",
              "      <td>58.0</td>\n",
              "      <td>Others</td>\n",
              "      <td>Science</td>\n",
              "      <td>53.0</td>\n",
              "      <td>Comm&amp;Mgmt</td>\n",
              "      <td>No</td>\n",
              "      <td>89.0</td>\n",
              "      <td>Mkt&amp;HR</td>\n",
              "      <td>60.22</td>\n",
              "      <td>Not Placed</td>\n",
              "      <td>NaN</td>\n",
              "    </tr>\n",
              "  </tbody>\n",
              "</table>\n",
              "</div>"
            ],
            "text/plain": [
              "     sl_no gender  ssc_p    ssc_b  ...  specialisation  mba_p      status    salary\n",
              "210    211      M   80.6   Others  ...         Mkt&Fin  74.49      Placed  400000.0\n",
              "211    212      M   58.0   Others  ...         Mkt&Fin  53.62      Placed  275000.0\n",
              "212    213      M   67.0   Others  ...         Mkt&Fin  69.72      Placed  295000.0\n",
              "213    214      F   74.0   Others  ...          Mkt&HR  60.23      Placed  204000.0\n",
              "214    215      M   62.0  Central  ...          Mkt&HR  60.22  Not Placed       NaN\n",
              "\n",
              "[5 rows x 15 columns]"
            ]
          },
          "metadata": {
            "tags": []
          },
          "execution_count": 232
        }
      ]
    },
    {
      "cell_type": "code",
      "metadata": {
        "colab": {
          "base_uri": "https://localhost:8080/"
        },
        "id": "FYDZrnWodx5L",
        "outputId": "17a18055-2ec1-49cc-a145-87b5a46fa844"
      },
      "source": [
        "data.info()"
      ],
      "execution_count": null,
      "outputs": [
        {
          "output_type": "stream",
          "text": [
            "<class 'pandas.core.frame.DataFrame'>\n",
            "RangeIndex: 215 entries, 0 to 214\n",
            "Data columns (total 15 columns):\n",
            " #   Column          Non-Null Count  Dtype  \n",
            "---  ------          --------------  -----  \n",
            " 0   sl_no           215 non-null    int64  \n",
            " 1   gender          215 non-null    object \n",
            " 2   ssc_p           215 non-null    float64\n",
            " 3   ssc_b           215 non-null    object \n",
            " 4   hsc_p           215 non-null    float64\n",
            " 5   hsc_b           215 non-null    object \n",
            " 6   hsc_s           215 non-null    object \n",
            " 7   degree_p        215 non-null    float64\n",
            " 8   degree_t        215 non-null    object \n",
            " 9   workex          215 non-null    object \n",
            " 10  etest_p         215 non-null    float64\n",
            " 11  specialisation  215 non-null    object \n",
            " 12  mba_p           215 non-null    float64\n",
            " 13  status          215 non-null    object \n",
            " 14  salary          148 non-null    float64\n",
            "dtypes: float64(6), int64(1), object(8)\n",
            "memory usage: 25.3+ KB\n"
          ],
          "name": "stdout"
        }
      ]
    },
    {
      "cell_type": "code",
      "metadata": {
        "colab": {
          "base_uri": "https://localhost:8080/",
          "height": 284
        },
        "id": "14Mg8zbXd2Ed",
        "outputId": "819fd1c8-9214-4675-de1a-0c7644cfaa6d"
      },
      "source": [
        "data.describe()"
      ],
      "execution_count": null,
      "outputs": [
        {
          "output_type": "execute_result",
          "data": {
            "text/html": [
              "<div>\n",
              "<style scoped>\n",
              "    .dataframe tbody tr th:only-of-type {\n",
              "        vertical-align: middle;\n",
              "    }\n",
              "\n",
              "    .dataframe tbody tr th {\n",
              "        vertical-align: top;\n",
              "    }\n",
              "\n",
              "    .dataframe thead th {\n",
              "        text-align: right;\n",
              "    }\n",
              "</style>\n",
              "<table border=\"1\" class=\"dataframe\">\n",
              "  <thead>\n",
              "    <tr style=\"text-align: right;\">\n",
              "      <th></th>\n",
              "      <th>sl_no</th>\n",
              "      <th>ssc_p</th>\n",
              "      <th>hsc_p</th>\n",
              "      <th>degree_p</th>\n",
              "      <th>etest_p</th>\n",
              "      <th>mba_p</th>\n",
              "      <th>salary</th>\n",
              "    </tr>\n",
              "  </thead>\n",
              "  <tbody>\n",
              "    <tr>\n",
              "      <th>count</th>\n",
              "      <td>215.000000</td>\n",
              "      <td>215.000000</td>\n",
              "      <td>215.000000</td>\n",
              "      <td>215.000000</td>\n",
              "      <td>215.000000</td>\n",
              "      <td>215.000000</td>\n",
              "      <td>148.000000</td>\n",
              "    </tr>\n",
              "    <tr>\n",
              "      <th>mean</th>\n",
              "      <td>108.000000</td>\n",
              "      <td>67.303395</td>\n",
              "      <td>66.333163</td>\n",
              "      <td>66.370186</td>\n",
              "      <td>72.100558</td>\n",
              "      <td>62.278186</td>\n",
              "      <td>288655.405405</td>\n",
              "    </tr>\n",
              "    <tr>\n",
              "      <th>std</th>\n",
              "      <td>62.209324</td>\n",
              "      <td>10.827205</td>\n",
              "      <td>10.897509</td>\n",
              "      <td>7.358743</td>\n",
              "      <td>13.275956</td>\n",
              "      <td>5.833385</td>\n",
              "      <td>93457.452420</td>\n",
              "    </tr>\n",
              "    <tr>\n",
              "      <th>min</th>\n",
              "      <td>1.000000</td>\n",
              "      <td>40.890000</td>\n",
              "      <td>37.000000</td>\n",
              "      <td>50.000000</td>\n",
              "      <td>50.000000</td>\n",
              "      <td>51.210000</td>\n",
              "      <td>200000.000000</td>\n",
              "    </tr>\n",
              "    <tr>\n",
              "      <th>25%</th>\n",
              "      <td>54.500000</td>\n",
              "      <td>60.600000</td>\n",
              "      <td>60.900000</td>\n",
              "      <td>61.000000</td>\n",
              "      <td>60.000000</td>\n",
              "      <td>57.945000</td>\n",
              "      <td>240000.000000</td>\n",
              "    </tr>\n",
              "    <tr>\n",
              "      <th>50%</th>\n",
              "      <td>108.000000</td>\n",
              "      <td>67.000000</td>\n",
              "      <td>65.000000</td>\n",
              "      <td>66.000000</td>\n",
              "      <td>71.000000</td>\n",
              "      <td>62.000000</td>\n",
              "      <td>265000.000000</td>\n",
              "    </tr>\n",
              "    <tr>\n",
              "      <th>75%</th>\n",
              "      <td>161.500000</td>\n",
              "      <td>75.700000</td>\n",
              "      <td>73.000000</td>\n",
              "      <td>72.000000</td>\n",
              "      <td>83.500000</td>\n",
              "      <td>66.255000</td>\n",
              "      <td>300000.000000</td>\n",
              "    </tr>\n",
              "    <tr>\n",
              "      <th>max</th>\n",
              "      <td>215.000000</td>\n",
              "      <td>89.400000</td>\n",
              "      <td>97.700000</td>\n",
              "      <td>91.000000</td>\n",
              "      <td>98.000000</td>\n",
              "      <td>77.890000</td>\n",
              "      <td>940000.000000</td>\n",
              "    </tr>\n",
              "  </tbody>\n",
              "</table>\n",
              "</div>"
            ],
            "text/plain": [
              "            sl_no       ssc_p  ...       mba_p         salary\n",
              "count  215.000000  215.000000  ...  215.000000     148.000000\n",
              "mean   108.000000   67.303395  ...   62.278186  288655.405405\n",
              "std     62.209324   10.827205  ...    5.833385   93457.452420\n",
              "min      1.000000   40.890000  ...   51.210000  200000.000000\n",
              "25%     54.500000   60.600000  ...   57.945000  240000.000000\n",
              "50%    108.000000   67.000000  ...   62.000000  265000.000000\n",
              "75%    161.500000   75.700000  ...   66.255000  300000.000000\n",
              "max    215.000000   89.400000  ...   77.890000  940000.000000\n",
              "\n",
              "[8 rows x 7 columns]"
            ]
          },
          "metadata": {
            "tags": []
          },
          "execution_count": 234
        }
      ]
    },
    {
      "cell_type": "markdown",
      "metadata": {
        "id": "qLaZOjEneAhy"
      },
      "source": [
        "Some attributes are Object  ,So check them and change to required datatype"
      ]
    },
    {
      "cell_type": "code",
      "metadata": {
        "colab": {
          "base_uri": "https://localhost:8080/"
        },
        "id": "k7Hsq3abd5fN",
        "outputId": "ad0147f5-7de0-432e-ef26-9685b5ec8f95"
      },
      "source": [
        "data['gender'].unique()"
      ],
      "execution_count": null,
      "outputs": [
        {
          "output_type": "execute_result",
          "data": {
            "text/plain": [
              "array(['M', 'F'], dtype=object)"
            ]
          },
          "metadata": {
            "tags": []
          },
          "execution_count": 235
        }
      ]
    },
    {
      "cell_type": "code",
      "metadata": {
        "colab": {
          "base_uri": "https://localhost:8080/"
        },
        "id": "TMia8oPVd_ek",
        "outputId": "7dae1a8f-fbd8-4a6f-bdf9-7a38a6602c9f"
      },
      "source": [
        "data['ssc_b'].unique()"
      ],
      "execution_count": null,
      "outputs": [
        {
          "output_type": "execute_result",
          "data": {
            "text/plain": [
              "array(['Others', 'Central'], dtype=object)"
            ]
          },
          "metadata": {
            "tags": []
          },
          "execution_count": 236
        }
      ]
    },
    {
      "cell_type": "code",
      "metadata": {
        "colab": {
          "base_uri": "https://localhost:8080/"
        },
        "id": "dRZ0uoTCeeLp",
        "outputId": "eabe810f-0151-408f-d18f-8f2f2135ab24"
      },
      "source": [
        "data['hsc_b'].unique()"
      ],
      "execution_count": null,
      "outputs": [
        {
          "output_type": "execute_result",
          "data": {
            "text/plain": [
              "array(['Others', 'Central'], dtype=object)"
            ]
          },
          "metadata": {
            "tags": []
          },
          "execution_count": 237
        }
      ]
    },
    {
      "cell_type": "code",
      "metadata": {
        "colab": {
          "base_uri": "https://localhost:8080/"
        },
        "id": "V1z1fHCpeih2",
        "outputId": "d2162601-a823-4aea-938b-45de09c21cba"
      },
      "source": [
        "data['hsc_s'].unique()"
      ],
      "execution_count": null,
      "outputs": [
        {
          "output_type": "execute_result",
          "data": {
            "text/plain": [
              "array(['Commerce', 'Science', 'Arts'], dtype=object)"
            ]
          },
          "metadata": {
            "tags": []
          },
          "execution_count": 238
        }
      ]
    },
    {
      "cell_type": "code",
      "metadata": {
        "colab": {
          "base_uri": "https://localhost:8080/"
        },
        "id": "kq4qwom0eosc",
        "outputId": "6f2b07a2-20cb-40b8-9877-f6756eadf2f0"
      },
      "source": [
        "data['degree_t'].unique()"
      ],
      "execution_count": null,
      "outputs": [
        {
          "output_type": "execute_result",
          "data": {
            "text/plain": [
              "array(['Sci&Tech', 'Comm&Mgmt', 'Others'], dtype=object)"
            ]
          },
          "metadata": {
            "tags": []
          },
          "execution_count": 239
        }
      ]
    },
    {
      "cell_type": "code",
      "metadata": {
        "colab": {
          "base_uri": "https://localhost:8080/"
        },
        "id": "nB-toESMevyX",
        "outputId": "7b7e3820-4f5a-4d95-bab7-399fcbbcca43"
      },
      "source": [
        "data['workex'].unique()"
      ],
      "execution_count": null,
      "outputs": [
        {
          "output_type": "execute_result",
          "data": {
            "text/plain": [
              "array(['No', 'Yes'], dtype=object)"
            ]
          },
          "metadata": {
            "tags": []
          },
          "execution_count": 240
        }
      ]
    },
    {
      "cell_type": "code",
      "metadata": {
        "colab": {
          "base_uri": "https://localhost:8080/"
        },
        "id": "9xv1Wyz4ev1v",
        "outputId": "2691969d-8e8f-45a5-c0c6-c35d79c6d3fd"
      },
      "source": [
        "data['specialisation'].unique()"
      ],
      "execution_count": null,
      "outputs": [
        {
          "output_type": "execute_result",
          "data": {
            "text/plain": [
              "array(['Mkt&HR', 'Mkt&Fin'], dtype=object)"
            ]
          },
          "metadata": {
            "tags": []
          },
          "execution_count": 241
        }
      ]
    },
    {
      "cell_type": "code",
      "metadata": {
        "colab": {
          "base_uri": "https://localhost:8080/"
        },
        "id": "RY923GfZev-8",
        "outputId": "6b7b3998-85f5-4342-b7ee-c142ec2ba373"
      },
      "source": [
        "data['status'].unique()"
      ],
      "execution_count": null,
      "outputs": [
        {
          "output_type": "execute_result",
          "data": {
            "text/plain": [
              "array(['Placed', 'Not Placed'], dtype=object)"
            ]
          },
          "metadata": {
            "tags": []
          },
          "execution_count": 242
        }
      ]
    },
    {
      "cell_type": "markdown",
      "metadata": {
        "id": "Z9iR4scdfkAF"
      },
      "source": [
        "Mapping "
      ]
    },
    {
      "cell_type": "code",
      "metadata": {
        "id": "1WQqv48sfi89"
      },
      "source": [
        "data['gender']= data['gender'].map({'M':1,'F':0})\n",
        "data['hsc_b']= data['hsc_b'].map({'Central':1,'Others':0})\n",
        "data['ssc_b']= data['ssc_b'].map({'Central':1,'Others':0})\n",
        "data['hsc_s']= data['hsc_s'].map({'Commerce':0,'Science':1,'Arts':2})\n",
        "data['degree_t']= data['degree_t'].map({'Sci&Tech':0,'Comm&Mgmt':1,'Others':2})\n",
        "data['workex']= data['workex'].map({'Yes':1,'No':0})\n",
        "data['specialisation']= data['specialisation'].map({'Mkt&HR':1,'Mkt&Fin':0})\n",
        "data['status']= data['status'].map({'Placed':1,'Not Placed':0})\n"
      ],
      "execution_count": null,
      "outputs": []
    },
    {
      "cell_type": "code",
      "metadata": {
        "colab": {
          "base_uri": "https://localhost:8080/"
        },
        "id": "jAddm7hpgJaO",
        "outputId": "7c0ad5d1-9dd2-4696-951a-906757657a3a"
      },
      "source": [
        "data.info()"
      ],
      "execution_count": null,
      "outputs": [
        {
          "output_type": "stream",
          "text": [
            "<class 'pandas.core.frame.DataFrame'>\n",
            "RangeIndex: 215 entries, 0 to 214\n",
            "Data columns (total 15 columns):\n",
            " #   Column          Non-Null Count  Dtype  \n",
            "---  ------          --------------  -----  \n",
            " 0   sl_no           215 non-null    int64  \n",
            " 1   gender          215 non-null    int64  \n",
            " 2   ssc_p           215 non-null    float64\n",
            " 3   ssc_b           215 non-null    int64  \n",
            " 4   hsc_p           215 non-null    float64\n",
            " 5   hsc_b           215 non-null    int64  \n",
            " 6   hsc_s           215 non-null    int64  \n",
            " 7   degree_p        215 non-null    float64\n",
            " 8   degree_t        215 non-null    int64  \n",
            " 9   workex          215 non-null    int64  \n",
            " 10  etest_p         215 non-null    float64\n",
            " 11  specialisation  215 non-null    int64  \n",
            " 12  mba_p           215 non-null    float64\n",
            " 13  status          215 non-null    int64  \n",
            " 14  salary          148 non-null    float64\n",
            "dtypes: float64(6), int64(9)\n",
            "memory usage: 25.3 KB\n"
          ],
          "name": "stdout"
        }
      ]
    },
    {
      "cell_type": "code",
      "metadata": {
        "id": "-4mK1_JGe-9v"
      },
      "source": [
        "import seaborn as sns"
      ],
      "execution_count": null,
      "outputs": []
    },
    {
      "cell_type": "code",
      "metadata": {
        "colab": {
          "base_uri": "https://localhost:8080/",
          "height": 427
        },
        "id": "-mlyrvkmfTkC",
        "outputId": "5a8bb20d-fc93-4cea-ec80-52b72fa8a4c7"
      },
      "source": [
        "plt.figure(figsize=(10,5))\n",
        "sns.countplot('gender',data = data,palette = 'inferno')\n",
        "plt.title(\"Distribution of Males and Females in our Data\",fontsize = 15)"
      ],
      "execution_count": null,
      "outputs": [
        {
          "output_type": "stream",
          "text": [
            "/usr/local/lib/python3.7/dist-packages/seaborn/_decorators.py:43: FutureWarning: Pass the following variable as a keyword arg: x. From version 0.12, the only valid positional argument will be `data`, and passing other arguments without an explicit keyword will result in an error or misinterpretation.\n",
            "  FutureWarning\n"
          ],
          "name": "stderr"
        },
        {
          "output_type": "execute_result",
          "data": {
            "text/plain": [
              "Text(0.5, 1.0, 'Distribution of Males and Females in our Data')"
            ]
          },
          "metadata": {
            "tags": []
          },
          "execution_count": 246
        },
        {
          "output_type": "display_data",
          "data": {
            "image/png": "[encoded data removed]",
            "text/plain": [
              "<Figure size 720x360 with 1 Axes>"
            ]
          },
          "metadata": {
            "tags": [],
            "needs_background": "light"
          }
        }
      ]
    },
    {
      "cell_type": "code",
      "metadata": {
        "colab": {
          "base_uri": "https://localhost:8080/",
          "height": 426
        },
        "id": "HPbI1rgnh_MO",
        "outputId": "2140f3e5-e6fd-4b1e-f190-b384b0a3f7d5"
      },
      "source": [
        "plt.figure(figsize=(10,5))\n",
        "sns.countplot('workex',data = data,palette = 'inferno')\n",
        "plt.title(\"workex\")"
      ],
      "execution_count": null,
      "outputs": [
        {
          "output_type": "stream",
          "text": [
            "/usr/local/lib/python3.7/dist-packages/seaborn/_decorators.py:43: FutureWarning: Pass the following variable as a keyword arg: x. From version 0.12, the only valid positional argument will be `data`, and passing other arguments without an explicit keyword will result in an error or misinterpretation.\n",
            "  FutureWarning\n"
          ],
          "name": "stderr"
        },
        {
          "output_type": "execute_result",
          "data": {
            "text/plain": [
              "Text(0.5, 1.0, 'workex')"
            ]
          },
          "metadata": {
            "tags": []
          },
          "execution_count": 247
        },
        {
          "output_type": "display_data",
          "data": {
            "image/png": "[encoded data removed]",
            "text/plain": [
              "<Figure size 720x360 with 1 Axes>"
            ]
          },
          "metadata": {
            "tags": [],
            "needs_background": "light"
          }
        }
      ]
    },
    {
      "cell_type": "code",
      "metadata": {
        "colab": {
          "base_uri": "https://localhost:8080/",
          "height": 426
        },
        "id": "IuHtQ_Fuh_Pl",
        "outputId": "2fc4c0ec-0ac7-48dd-a148-c4aca4a500a6"
      },
      "source": [
        "plt.figure(figsize=(10,5))\n",
        "sns.countplot('ssc_b',data = data,palette = 'inferno')\n",
        "plt.title(\"ssc_b\")"
      ],
      "execution_count": null,
      "outputs": [
        {
          "output_type": "stream",
          "text": [
            "/usr/local/lib/python3.7/dist-packages/seaborn/_decorators.py:43: FutureWarning: Pass the following variable as a keyword arg: x. From version 0.12, the only valid positional argument will be `data`, and passing other arguments without an explicit keyword will result in an error or misinterpretation.\n",
            "  FutureWarning\n"
          ],
          "name": "stderr"
        },
        {
          "output_type": "execute_result",
          "data": {
            "text/plain": [
              "Text(0.5, 1.0, 'ssc_b')"
            ]
          },
          "metadata": {
            "tags": []
          },
          "execution_count": 248
        },
        {
          "output_type": "display_data",
          "data": {
            "image/png": "[encoded data removed]",
            "text/plain": [
              "<Figure size 720x360 with 1 Axes>"
            ]
          },
          "metadata": {
            "tags": [],
            "needs_background": "light"
          }
        }
      ]
    },
    {
      "cell_type": "code",
      "metadata": {
        "colab": {
          "base_uri": "https://localhost:8080/",
          "height": 426
        },
        "id": "3p0PxmZ3h_S8",
        "outputId": "5fe25938-61ef-41d3-bcc8-db441b7013ef"
      },
      "source": [
        "plt.figure(figsize=(10,5))\n",
        "sns.countplot('hsc_p',data = data,palette = 'inferno')\n",
        "plt.title(\" hsc_p\")"
      ],
      "execution_count": null,
      "outputs": [
        {
          "output_type": "stream",
          "text": [
            "/usr/local/lib/python3.7/dist-packages/seaborn/_decorators.py:43: FutureWarning: Pass the following variable as a keyword arg: x. From version 0.12, the only valid positional argument will be `data`, and passing other arguments without an explicit keyword will result in an error or misinterpretation.\n",
            "  FutureWarning\n"
          ],
          "name": "stderr"
        },
        {
          "output_type": "execute_result",
          "data": {
            "text/plain": [
              "Text(0.5, 1.0, ' hsc_p')"
            ]
          },
          "metadata": {
            "tags": []
          },
          "execution_count": 249
        },
        {
          "output_type": "display_data",
          "data": {
            "image/png": "[encoded data removed]",
            "text/plain": [
              "<Figure size 720x360 with 1 Axes>"
            ]
          },
          "metadata": {
            "tags": [],
            "needs_background": "light"
          }
        }
      ]
    },
    {
      "cell_type": "code",
      "metadata": {
        "colab": {
          "base_uri": "https://localhost:8080/",
          "height": 429
        },
        "id": "CwcWwyBDggxG",
        "outputId": "dd5290c2-00e8-4950-ffcd-5c83bb5d03ad"
      },
      "source": [
        "plt.figure(figsize=(10,5))\n",
        "sns.countplot('degree_t',data = data,palette = 'inferno')\n",
        "plt.title(\"Distribution of the Type of Degrees\",fontsize = 15)"
      ],
      "execution_count": null,
      "outputs": [
        {
          "output_type": "stream",
          "text": [
            "/usr/local/lib/python3.7/dist-packages/seaborn/_decorators.py:43: FutureWarning: Pass the following variable as a keyword arg: x. From version 0.12, the only valid positional argument will be `data`, and passing other arguments without an explicit keyword will result in an error or misinterpretation.\n",
            "  FutureWarning\n"
          ],
          "name": "stderr"
        },
        {
          "output_type": "execute_result",
          "data": {
            "text/plain": [
              "Text(0.5, 1.0, 'Distribution of the Type of Degrees')"
            ]
          },
          "metadata": {
            "tags": []
          },
          "execution_count": 250
        },
        {
          "output_type": "display_data",
          "data": {
            "image/png": "[encoded data removed]",
            "text/plain": [
              "<Figure size 720x360 with 1 Axes>"
            ]
          },
          "metadata": {
            "tags": [],
            "needs_background": "light"
          }
        }
      ]
    },
    {
      "cell_type": "code",
      "metadata": {
        "colab": {
          "base_uri": "https://localhost:8080/",
          "height": 426
        },
        "id": "oN9nWi8tguNQ",
        "outputId": "a68f477f-20c6-49d9-d58b-a1ff7032ae20"
      },
      "source": [
        "plt.figure(figsize=(10,5))\n",
        "sns.countplot('ssc_p',data = data,palette = 'inferno')\n",
        "plt.title(\"ssc_p\")\n"
      ],
      "execution_count": null,
      "outputs": [
        {
          "output_type": "stream",
          "text": [
            "/usr/local/lib/python3.7/dist-packages/seaborn/_decorators.py:43: FutureWarning: Pass the following variable as a keyword arg: x. From version 0.12, the only valid positional argument will be `data`, and passing other arguments without an explicit keyword will result in an error or misinterpretation.\n",
            "  FutureWarning\n"
          ],
          "name": "stderr"
        },
        {
          "output_type": "execute_result",
          "data": {
            "text/plain": [
              "Text(0.5, 1.0, 'ssc_p')"
            ]
          },
          "metadata": {
            "tags": []
          },
          "execution_count": 251
        },
        {
          "output_type": "display_data",
          "data": {
            "image/png": "[encoded data removed]",
            "text/plain": [
              "<Figure size 720x360 with 1 Axes>"
            ]
          },
          "metadata": {
            "tags": [],
            "needs_background": "light"
          }
        }
      ]
    },
    {
      "cell_type": "code",
      "metadata": {
        "colab": {
          "base_uri": "https://localhost:8080/",
          "height": 426
        },
        "id": "W49o7QOJhIBQ",
        "outputId": "1617b62d-75b1-4952-b9b5-a3dbe9efe556"
      },
      "source": [
        "plt.figure(figsize=(10,5))\n",
        "sns.countplot('specialisation',data = data,palette = 'inferno')\n",
        "plt.title(\"specialisation\")"
      ],
      "execution_count": null,
      "outputs": [
        {
          "output_type": "stream",
          "text": [
            "/usr/local/lib/python3.7/dist-packages/seaborn/_decorators.py:43: FutureWarning: Pass the following variable as a keyword arg: x. From version 0.12, the only valid positional argument will be `data`, and passing other arguments without an explicit keyword will result in an error or misinterpretation.\n",
            "  FutureWarning\n"
          ],
          "name": "stderr"
        },
        {
          "output_type": "execute_result",
          "data": {
            "text/plain": [
              "Text(0.5, 1.0, 'specialisation')"
            ]
          },
          "metadata": {
            "tags": []
          },
          "execution_count": 252
        },
        {
          "output_type": "display_data",
          "data": {
            "image/png": "[encoded data removed]",
            "text/plain": [
              "<Figure size 720x360 with 1 Axes>"
            ]
          },
          "metadata": {
            "tags": [],
            "needs_background": "light"
          }
        }
      ]
    },
    {
      "cell_type": "code",
      "metadata": {
        "colab": {
          "base_uri": "https://localhost:8080/",
          "height": 426
        },
        "id": "oduV467fhjvB",
        "outputId": "360d5e95-3f51-42bb-b837-6d59d5679529"
      },
      "source": [
        "plt.figure(figsize=(10,5))\n",
        "sns.countplot('status',data = data,palette = 'inferno')\n",
        "plt.title(\"status\")"
      ],
      "execution_count": null,
      "outputs": [
        {
          "output_type": "stream",
          "text": [
            "/usr/local/lib/python3.7/dist-packages/seaborn/_decorators.py:43: FutureWarning: Pass the following variable as a keyword arg: x. From version 0.12, the only valid positional argument will be `data`, and passing other arguments without an explicit keyword will result in an error or misinterpretation.\n",
            "  FutureWarning\n"
          ],
          "name": "stderr"
        },
        {
          "output_type": "execute_result",
          "data": {
            "text/plain": [
              "Text(0.5, 1.0, 'status')"
            ]
          },
          "metadata": {
            "tags": []
          },
          "execution_count": 253
        },
        {
          "output_type": "display_data",
          "data": {
            "image/png": "[encoded data removed]",
            "text/plain": [
              "<Figure size 720x360 with 1 Axes>"
            ]
          },
          "metadata": {
            "tags": [],
            "needs_background": "light"
          }
        }
      ]
    },
    {
      "cell_type": "code",
      "metadata": {
        "id": "B4lqzfNVi5-B"
      },
      "source": [
        "data=data.drop('sl_no',axis=1)"
      ],
      "execution_count": null,
      "outputs": []
    },
    {
      "cell_type": "code",
      "metadata": {
        "colab": {
          "base_uri": "https://localhost:8080/",
          "height": 195
        },
        "id": "rfP3672gisjK",
        "outputId": "9ae5c565-78f6-440b-dbd1-a11a12da2727"
      },
      "source": [
        "data.head()"
      ],
      "execution_count": null,
      "outputs": [
        {
          "output_type": "execute_result",
          "data": {
            "text/html": [
              "<div>\n",
              "<style scoped>\n",
              "    .dataframe tbody tr th:only-of-type {\n",
              "        vertical-align: middle;\n",
              "    }\n",
              "\n",
              "    .dataframe tbody tr th {\n",
              "        vertical-align: top;\n",
              "    }\n",
              "\n",
              "    .dataframe thead th {\n",
              "        text-align: right;\n",
              "    }\n",
              "</style>\n",
              "<table border=\"1\" class=\"dataframe\">\n",
              "  <thead>\n",
              "    <tr style=\"text-align: right;\">\n",
              "      <th></th>\n",
              "      <th>gender</th>\n",
              "      <th>ssc_p</th>\n",
              "      <th>ssc_b</th>\n",
              "      <th>hsc_p</th>\n",
              "      <th>hsc_b</th>\n",
              "      <th>hsc_s</th>\n",
              "      <th>degree_p</th>\n",
              "      <th>degree_t</th>\n",
              "      <th>workex</th>\n",
              "      <th>etest_p</th>\n",
              "      <th>specialisation</th>\n",
              "      <th>mba_p</th>\n",
              "      <th>status</th>\n",
              "      <th>salary</th>\n",
              "    </tr>\n",
              "  </thead>\n",
              "  <tbody>\n",
              "    <tr>\n",
              "      <th>0</th>\n",
              "      <td>1</td>\n",
              "      <td>67.00</td>\n",
              "      <td>0</td>\n",
              "      <td>91.00</td>\n",
              "      <td>0</td>\n",
              "      <td>0</td>\n",
              "      <td>58.00</td>\n",
              "      <td>0</td>\n",
              "      <td>0</td>\n",
              "      <td>55.0</td>\n",
              "      <td>1</td>\n",
              "      <td>58.80</td>\n",
              "      <td>1</td>\n",
              "      <td>270000.0</td>\n",
              "    </tr>\n",
              "    <tr>\n",
              "      <th>1</th>\n",
              "      <td>1</td>\n",
              "      <td>79.33</td>\n",
              "      <td>1</td>\n",
              "      <td>78.33</td>\n",
              "      <td>0</td>\n",
              "      <td>1</td>\n",
              "      <td>77.48</td>\n",
              "      <td>0</td>\n",
              "      <td>1</td>\n",
              "      <td>86.5</td>\n",
              "      <td>0</td>\n",
              "      <td>66.28</td>\n",
              "      <td>1</td>\n",
              "      <td>200000.0</td>\n",
              "    </tr>\n",
              "    <tr>\n",
              "      <th>2</th>\n",
              "      <td>1</td>\n",
              "      <td>65.00</td>\n",
              "      <td>1</td>\n",
              "      <td>68.00</td>\n",
              "      <td>1</td>\n",
              "      <td>2</td>\n",
              "      <td>64.00</td>\n",
              "      <td>1</td>\n",
              "      <td>0</td>\n",
              "      <td>75.0</td>\n",
              "      <td>0</td>\n",
              "      <td>57.80</td>\n",
              "      <td>1</td>\n",
              "      <td>250000.0</td>\n",
              "    </tr>\n",
              "    <tr>\n",
              "      <th>3</th>\n",
              "      <td>1</td>\n",
              "      <td>56.00</td>\n",
              "      <td>1</td>\n",
              "      <td>52.00</td>\n",
              "      <td>1</td>\n",
              "      <td>1</td>\n",
              "      <td>52.00</td>\n",
              "      <td>0</td>\n",
              "      <td>0</td>\n",
              "      <td>66.0</td>\n",
              "      <td>1</td>\n",
              "      <td>59.43</td>\n",
              "      <td>0</td>\n",
              "      <td>NaN</td>\n",
              "    </tr>\n",
              "    <tr>\n",
              "      <th>4</th>\n",
              "      <td>1</td>\n",
              "      <td>85.80</td>\n",
              "      <td>1</td>\n",
              "      <td>73.60</td>\n",
              "      <td>1</td>\n",
              "      <td>0</td>\n",
              "      <td>73.30</td>\n",
              "      <td>1</td>\n",
              "      <td>0</td>\n",
              "      <td>96.8</td>\n",
              "      <td>0</td>\n",
              "      <td>55.50</td>\n",
              "      <td>1</td>\n",
              "      <td>425000.0</td>\n",
              "    </tr>\n",
              "  </tbody>\n",
              "</table>\n",
              "</div>"
            ],
            "text/plain": [
              "   gender  ssc_p  ssc_b  hsc_p  ...  specialisation  mba_p  status    salary\n",
              "0       1  67.00      0  91.00  ...               1  58.80       1  270000.0\n",
              "1       1  79.33      1  78.33  ...               0  66.28       1  200000.0\n",
              "2       1  65.00      1  68.00  ...               0  57.80       1  250000.0\n",
              "3       1  56.00      1  52.00  ...               1  59.43       0       NaN\n",
              "4       1  85.80      1  73.60  ...               0  55.50       1  425000.0\n",
              "\n",
              "[5 rows x 14 columns]"
            ]
          },
          "metadata": {
            "tags": []
          },
          "execution_count": 255
        }
      ]
    },
    {
      "cell_type": "code",
      "metadata": {
        "id": "RwnFrbv_jI-Z"
      },
      "source": [
        "x=data.iloc[:, :-2]"
      ],
      "execution_count": null,
      "outputs": []
    },
    {
      "cell_type": "code",
      "metadata": {
        "colab": {
          "base_uri": "https://localhost:8080/",
          "height": 195
        },
        "id": "bppJ4RI0ispr",
        "outputId": "97fbb6a2-7db3-4a7f-819d-682c1d6e0862"
      },
      "source": [
        "x.head()"
      ],
      "execution_count": null,
      "outputs": [
        {
          "output_type": "execute_result",
          "data": {
            "text/html": [
              "<div>\n",
              "<style scoped>\n",
              "    .dataframe tbody tr th:only-of-type {\n",
              "        vertical-align: middle;\n",
              "    }\n",
              "\n",
              "    .dataframe tbody tr th {\n",
              "        vertical-align: top;\n",
              "    }\n",
              "\n",
              "    .dataframe thead th {\n",
              "        text-align: right;\n",
              "    }\n",
              "</style>\n",
              "<table border=\"1\" class=\"dataframe\">\n",
              "  <thead>\n",
              "    <tr style=\"text-align: right;\">\n",
              "      <th></th>\n",
              "      <th>gender</th>\n",
              "      <th>ssc_p</th>\n",
              "      <th>ssc_b</th>\n",
              "      <th>hsc_p</th>\n",
              "      <th>hsc_b</th>\n",
              "      <th>hsc_s</th>\n",
              "      <th>degree_p</th>\n",
              "      <th>degree_t</th>\n",
              "      <th>workex</th>\n",
              "      <th>etest_p</th>\n",
              "      <th>specialisation</th>\n",
              "      <th>mba_p</th>\n",
              "    </tr>\n",
              "  </thead>\n",
              "  <tbody>\n",
              "    <tr>\n",
              "      <th>0</th>\n",
              "      <td>1</td>\n",
              "      <td>67.00</td>\n",
              "      <td>0</td>\n",
              "      <td>91.00</td>\n",
              "      <td>0</td>\n",
              "      <td>0</td>\n",
              "      <td>58.00</td>\n",
              "      <td>0</td>\n",
              "      <td>0</td>\n",
              "      <td>55.0</td>\n",
              "      <td>1</td>\n",
              "      <td>58.80</td>\n",
              "    </tr>\n",
              "    <tr>\n",
              "      <th>1</th>\n",
              "      <td>1</td>\n",
              "      <td>79.33</td>\n",
              "      <td>1</td>\n",
              "      <td>78.33</td>\n",
              "      <td>0</td>\n",
              "      <td>1</td>\n",
              "      <td>77.48</td>\n",
              "      <td>0</td>\n",
              "      <td>1</td>\n",
              "      <td>86.5</td>\n",
              "      <td>0</td>\n",
              "      <td>66.28</td>\n",
              "    </tr>\n",
              "    <tr>\n",
              "      <th>2</th>\n",
              "      <td>1</td>\n",
              "      <td>65.00</td>\n",
              "      <td>1</td>\n",
              "      <td>68.00</td>\n",
              "      <td>1</td>\n",
              "      <td>2</td>\n",
              "      <td>64.00</td>\n",
              "      <td>1</td>\n",
              "      <td>0</td>\n",
              "      <td>75.0</td>\n",
              "      <td>0</td>\n",
              "      <td>57.80</td>\n",
              "    </tr>\n",
              "    <tr>\n",
              "      <th>3</th>\n",
              "      <td>1</td>\n",
              "      <td>56.00</td>\n",
              "      <td>1</td>\n",
              "      <td>52.00</td>\n",
              "      <td>1</td>\n",
              "      <td>1</td>\n",
              "      <td>52.00</td>\n",
              "      <td>0</td>\n",
              "      <td>0</td>\n",
              "      <td>66.0</td>\n",
              "      <td>1</td>\n",
              "      <td>59.43</td>\n",
              "    </tr>\n",
              "    <tr>\n",
              "      <th>4</th>\n",
              "      <td>1</td>\n",
              "      <td>85.80</td>\n",
              "      <td>1</td>\n",
              "      <td>73.60</td>\n",
              "      <td>1</td>\n",
              "      <td>0</td>\n",
              "      <td>73.30</td>\n",
              "      <td>1</td>\n",
              "      <td>0</td>\n",
              "      <td>96.8</td>\n",
              "      <td>0</td>\n",
              "      <td>55.50</td>\n",
              "    </tr>\n",
              "  </tbody>\n",
              "</table>\n",
              "</div>"
            ],
            "text/plain": [
              "   gender  ssc_p  ssc_b  hsc_p  ...  workex  etest_p  specialisation  mba_p\n",
              "0       1  67.00      0  91.00  ...       0     55.0               1  58.80\n",
              "1       1  79.33      1  78.33  ...       1     86.5               0  66.28\n",
              "2       1  65.00      1  68.00  ...       0     75.0               0  57.80\n",
              "3       1  56.00      1  52.00  ...       0     66.0               1  59.43\n",
              "4       1  85.80      1  73.60  ...       0     96.8               0  55.50\n",
              "\n",
              "[5 rows x 12 columns]"
            ]
          },
          "metadata": {
            "tags": []
          },
          "execution_count": 257
        }
      ]
    },
    {
      "cell_type": "code",
      "metadata": {
        "id": "m9qR76J6iszm"
      },
      "source": [
        "y=data.iloc[:,-2]"
      ],
      "execution_count": null,
      "outputs": []
    },
    {
      "cell_type": "code",
      "metadata": {
        "colab": {
          "base_uri": "https://localhost:8080/"
        },
        "id": "Mapsu_q3is7m",
        "outputId": "ce1313fc-c3ff-41c6-eb57-a6043e5d3a35"
      },
      "source": [
        "y.head()"
      ],
      "execution_count": null,
      "outputs": [
        {
          "output_type": "execute_result",
          "data": {
            "text/plain": [
              "0    1\n",
              "1    1\n",
              "2    1\n",
              "3    0\n",
              "4    1\n",
              "Name: status, dtype: int64"
            ]
          },
          "metadata": {
            "tags": []
          },
          "execution_count": 259
        }
      ]
    },
    {
      "cell_type": "code",
      "metadata": {
        "id": "VPFCOfhShrOA"
      },
      "source": [
        "from sklearn.model_selection import train_test_split as tts"
      ],
      "execution_count": null,
      "outputs": []
    },
    {
      "cell_type": "code",
      "metadata": {
        "id": "LHPXwCLuio7_"
      },
      "source": [
        "xtrain,xtest,ytrain,ytest=tts(x,y)"
      ],
      "execution_count": null,
      "outputs": []
    },
    {
      "cell_type": "code",
      "metadata": {
        "colab": {
          "base_uri": "https://localhost:8080/",
          "height": 195
        },
        "id": "8zVHmPJkjbOo",
        "outputId": "daa77c19-347a-4a0e-f061-81b64962e166"
      },
      "source": [
        "xtrain.head()"
      ],
      "execution_count": null,
      "outputs": [
        {
          "output_type": "execute_result",
          "data": {
            "text/html": [
              "<div>\n",
              "<style scoped>\n",
              "    .dataframe tbody tr th:only-of-type {\n",
              "        vertical-align: middle;\n",
              "    }\n",
              "\n",
              "    .dataframe tbody tr th {\n",
              "        vertical-align: top;\n",
              "    }\n",
              "\n",
              "    .dataframe thead th {\n",
              "        text-align: right;\n",
              "    }\n",
              "</style>\n",
              "<table border=\"1\" class=\"dataframe\">\n",
              "  <thead>\n",
              "    <tr style=\"text-align: right;\">\n",
              "      <th></th>\n",
              "      <th>gender</th>\n",
              "      <th>ssc_p</th>\n",
              "      <th>ssc_b</th>\n",
              "      <th>hsc_p</th>\n",
              "      <th>hsc_b</th>\n",
              "      <th>hsc_s</th>\n",
              "      <th>degree_p</th>\n",
              "      <th>degree_t</th>\n",
              "      <th>workex</th>\n",
              "      <th>etest_p</th>\n",
              "      <th>specialisation</th>\n",
              "      <th>mba_p</th>\n",
              "    </tr>\n",
              "  </thead>\n",
              "  <tbody>\n",
              "    <tr>\n",
              "      <th>19</th>\n",
              "      <td>1</td>\n",
              "      <td>60.0</td>\n",
              "      <td>0</td>\n",
              "      <td>67.0</td>\n",
              "      <td>0</td>\n",
              "      <td>2</td>\n",
              "      <td>70.00</td>\n",
              "      <td>1</td>\n",
              "      <td>1</td>\n",
              "      <td>50.48</td>\n",
              "      <td>0</td>\n",
              "      <td>77.89</td>\n",
              "    </tr>\n",
              "    <tr>\n",
              "      <th>188</th>\n",
              "      <td>1</td>\n",
              "      <td>61.8</td>\n",
              "      <td>0</td>\n",
              "      <td>47.0</td>\n",
              "      <td>0</td>\n",
              "      <td>0</td>\n",
              "      <td>54.38</td>\n",
              "      <td>1</td>\n",
              "      <td>0</td>\n",
              "      <td>57.00</td>\n",
              "      <td>0</td>\n",
              "      <td>56.13</td>\n",
              "    </tr>\n",
              "    <tr>\n",
              "      <th>115</th>\n",
              "      <td>0</td>\n",
              "      <td>73.0</td>\n",
              "      <td>0</td>\n",
              "      <td>63.0</td>\n",
              "      <td>0</td>\n",
              "      <td>1</td>\n",
              "      <td>66.00</td>\n",
              "      <td>1</td>\n",
              "      <td>0</td>\n",
              "      <td>89.00</td>\n",
              "      <td>0</td>\n",
              "      <td>60.50</td>\n",
              "    </tr>\n",
              "    <tr>\n",
              "      <th>74</th>\n",
              "      <td>1</td>\n",
              "      <td>56.6</td>\n",
              "      <td>1</td>\n",
              "      <td>64.8</td>\n",
              "      <td>1</td>\n",
              "      <td>0</td>\n",
              "      <td>70.20</td>\n",
              "      <td>1</td>\n",
              "      <td>0</td>\n",
              "      <td>84.27</td>\n",
              "      <td>0</td>\n",
              "      <td>67.20</td>\n",
              "    </tr>\n",
              "    <tr>\n",
              "      <th>4</th>\n",
              "      <td>1</td>\n",
              "      <td>85.8</td>\n",
              "      <td>1</td>\n",
              "      <td>73.6</td>\n",
              "      <td>1</td>\n",
              "      <td>0</td>\n",
              "      <td>73.30</td>\n",
              "      <td>1</td>\n",
              "      <td>0</td>\n",
              "      <td>96.80</td>\n",
              "      <td>0</td>\n",
              "      <td>55.50</td>\n",
              "    </tr>\n",
              "  </tbody>\n",
              "</table>\n",
              "</div>"
            ],
            "text/plain": [
              "     gender  ssc_p  ssc_b  hsc_p  ...  workex  etest_p  specialisation  mba_p\n",
              "19        1   60.0      0   67.0  ...       1    50.48               0  77.89\n",
              "188       1   61.8      0   47.0  ...       0    57.00               0  56.13\n",
              "115       0   73.0      0   63.0  ...       0    89.00               0  60.50\n",
              "74        1   56.6      1   64.8  ...       0    84.27               0  67.20\n",
              "4         1   85.8      1   73.6  ...       0    96.80               0  55.50\n",
              "\n",
              "[5 rows x 12 columns]"
            ]
          },
          "metadata": {
            "tags": []
          },
          "execution_count": 262
        }
      ]
    },
    {
      "cell_type": "code",
      "metadata": {
        "colab": {
          "base_uri": "https://localhost:8080/",
          "height": 195
        },
        "id": "DdNknPOSjdHH",
        "outputId": "319ab14e-4c60-40ea-a0e9-2bcc85107e03"
      },
      "source": [
        "xtest.head()"
      ],
      "execution_count": null,
      "outputs": [
        {
          "output_type": "execute_result",
          "data": {
            "text/html": [
              "<div>\n",
              "<style scoped>\n",
              "    .dataframe tbody tr th:only-of-type {\n",
              "        vertical-align: middle;\n",
              "    }\n",
              "\n",
              "    .dataframe tbody tr th {\n",
              "        vertical-align: top;\n",
              "    }\n",
              "\n",
              "    .dataframe thead th {\n",
              "        text-align: right;\n",
              "    }\n",
              "</style>\n",
              "<table border=\"1\" class=\"dataframe\">\n",
              "  <thead>\n",
              "    <tr style=\"text-align: right;\">\n",
              "      <th></th>\n",
              "      <th>gender</th>\n",
              "      <th>ssc_p</th>\n",
              "      <th>ssc_b</th>\n",
              "      <th>hsc_p</th>\n",
              "      <th>hsc_b</th>\n",
              "      <th>hsc_s</th>\n",
              "      <th>degree_p</th>\n",
              "      <th>degree_t</th>\n",
              "      <th>workex</th>\n",
              "      <th>etest_p</th>\n",
              "      <th>specialisation</th>\n",
              "      <th>mba_p</th>\n",
              "    </tr>\n",
              "  </thead>\n",
              "  <tbody>\n",
              "    <tr>\n",
              "      <th>34</th>\n",
              "      <td>1</td>\n",
              "      <td>62.0</td>\n",
              "      <td>0</td>\n",
              "      <td>51.0</td>\n",
              "      <td>0</td>\n",
              "      <td>1</td>\n",
              "      <td>52.0</td>\n",
              "      <td>2</td>\n",
              "      <td>0</td>\n",
              "      <td>68.44</td>\n",
              "      <td>1</td>\n",
              "      <td>62.77</td>\n",
              "    </tr>\n",
              "    <tr>\n",
              "      <th>146</th>\n",
              "      <td>1</td>\n",
              "      <td>62.0</td>\n",
              "      <td>1</td>\n",
              "      <td>63.0</td>\n",
              "      <td>0</td>\n",
              "      <td>1</td>\n",
              "      <td>66.0</td>\n",
              "      <td>1</td>\n",
              "      <td>0</td>\n",
              "      <td>85.00</td>\n",
              "      <td>1</td>\n",
              "      <td>55.14</td>\n",
              "    </tr>\n",
              "    <tr>\n",
              "      <th>96</th>\n",
              "      <td>0</td>\n",
              "      <td>76.0</td>\n",
              "      <td>1</td>\n",
              "      <td>70.0</td>\n",
              "      <td>1</td>\n",
              "      <td>1</td>\n",
              "      <td>76.0</td>\n",
              "      <td>1</td>\n",
              "      <td>1</td>\n",
              "      <td>66.00</td>\n",
              "      <td>0</td>\n",
              "      <td>64.44</td>\n",
              "    </tr>\n",
              "    <tr>\n",
              "      <th>38</th>\n",
              "      <td>0</td>\n",
              "      <td>73.0</td>\n",
              "      <td>0</td>\n",
              "      <td>58.0</td>\n",
              "      <td>0</td>\n",
              "      <td>1</td>\n",
              "      <td>66.0</td>\n",
              "      <td>1</td>\n",
              "      <td>0</td>\n",
              "      <td>53.70</td>\n",
              "      <td>1</td>\n",
              "      <td>56.86</td>\n",
              "    </tr>\n",
              "    <tr>\n",
              "      <th>77</th>\n",
              "      <td>1</td>\n",
              "      <td>64.0</td>\n",
              "      <td>0</td>\n",
              "      <td>80.0</td>\n",
              "      <td>0</td>\n",
              "      <td>1</td>\n",
              "      <td>65.0</td>\n",
              "      <td>0</td>\n",
              "      <td>1</td>\n",
              "      <td>69.00</td>\n",
              "      <td>0</td>\n",
              "      <td>57.65</td>\n",
              "    </tr>\n",
              "  </tbody>\n",
              "</table>\n",
              "</div>"
            ],
            "text/plain": [
              "     gender  ssc_p  ssc_b  hsc_p  ...  workex  etest_p  specialisation  mba_p\n",
              "34        1   62.0      0   51.0  ...       0    68.44               1  62.77\n",
              "146       1   62.0      1   63.0  ...       0    85.00               1  55.14\n",
              "96        0   76.0      1   70.0  ...       1    66.00               0  64.44\n",
              "38        0   73.0      0   58.0  ...       0    53.70               1  56.86\n",
              "77        1   64.0      0   80.0  ...       1    69.00               0  57.65\n",
              "\n",
              "[5 rows x 12 columns]"
            ]
          },
          "metadata": {
            "tags": []
          },
          "execution_count": 263
        }
      ]
    },
    {
      "cell_type": "code",
      "metadata": {
        "colab": {
          "base_uri": "https://localhost:8080/"
        },
        "id": "CE-nCeXwj_Ae",
        "outputId": "d7ae4a78-9c0e-4257-d728-d7ab757f2e27"
      },
      "source": [
        "len(xtrain)"
      ],
      "execution_count": null,
      "outputs": [
        {
          "output_type": "execute_result",
          "data": {
            "text/plain": [
              "161"
            ]
          },
          "metadata": {
            "tags": []
          },
          "execution_count": 264
        }
      ]
    },
    {
      "cell_type": "code",
      "metadata": {
        "colab": {
          "base_uri": "https://localhost:8080/"
        },
        "id": "UOR8UcYXkBTs",
        "outputId": "9e3eccc7-425b-430b-8e83-7a73c663904b"
      },
      "source": [
        "len(xtest)"
      ],
      "execution_count": null,
      "outputs": [
        {
          "output_type": "execute_result",
          "data": {
            "text/plain": [
              "54"
            ]
          },
          "metadata": {
            "tags": []
          },
          "execution_count": 265
        }
      ]
    },
    {
      "cell_type": "code",
      "metadata": {
        "id": "1RVT9kD1kCni"
      },
      "source": [
        "from sklearn.preprocessing import StandardScaler\n",
        "scaler = StandardScaler()\n",
        "scaler.fit(xtrain)\n",
        "xtrain = scaler.transform(xtrain)\n",
        "xtest = scaler.transform(xtest)"
      ],
      "execution_count": null,
      "outputs": []
    },
    {
      "cell_type": "code",
      "metadata": {
        "colab": {
          "base_uri": "https://localhost:8080/"
        },
        "id": "Jbj6B4S6kGtt",
        "outputId": "caf00e28-66ee-4c00-ad08-88435f210447"
      },
      "source": [
        "xtrain"
      ],
      "execution_count": null,
      "outputs": [
        {
          "output_type": "execute_result",
          "data": {
            "text/plain": [
              "array([[ 0.73029674, -0.74413503, -1.05755428, ..., -1.56652829,\n",
              "        -0.85509227,  2.65092534],\n",
              "       [ 0.73029674, -0.57798944, -1.05755428, ..., -1.08858789,\n",
              "        -0.85509227, -1.10188136],\n",
              "       [-1.36930639,  0.45580535, -1.05755428, ...,  1.25713186,\n",
              "        -0.85509227, -0.34821568],\n",
              "       ...,\n",
              "       [ 0.73029674,  0.56656908,  0.94557794, ...,  0.24554022,\n",
              "        -0.85509227,  0.61068162],\n",
              "       [ 0.73029674,  1.25884238, -1.05755428, ...,  1.03722064,\n",
              "        -0.85509227,  1.32468069],\n",
              "       [ 0.73029674, -0.2826195 ,  0.94557794, ..., -1.16189163,\n",
              "        -0.85509227, -0.96218589]])"
            ]
          },
          "metadata": {
            "tags": []
          },
          "execution_count": 267
        }
      ]
    },
    {
      "cell_type": "code",
      "metadata": {
        "colab": {
          "base_uri": "https://localhost:8080/"
        },
        "id": "vqwNas1GkkY7",
        "outputId": "85a61fa4-be3a-4bb8-d758-d055a09496dc"
      },
      "source": [
        "xtest"
      ],
      "execution_count": null,
      "outputs": [
        {
          "output_type": "execute_result",
          "data": {
            "text/plain": [
              "array([[ 0.73029674, -0.55952882, -1.05755428, -1.48862649, -0.79136757,\n",
              "         0.88328125, -2.07360393,  2.51500819, -0.75040442, -0.24999308,\n",
              "         1.16946443,  0.04327657],\n",
              "       [ 0.73029674, -0.55952882,  0.94557794, -0.36502507, -0.79136757,\n",
              "         0.88328125, -0.10033553,  0.46997628, -0.75040442,  0.96391689,\n",
              "         1.16946443, -1.27262027],\n",
              "       [-1.36930639,  0.73271467,  0.94557794,  0.29040909,  1.26363531,\n",
              "         0.88328125,  1.30914189,  0.46997628,  1.33261475, -0.42885421,\n",
              "        -0.85509227,  0.33129068],\n",
              "       [-1.36930639,  0.45580535, -1.05755428, -0.83319233, -0.79136757,\n",
              "         0.88328125, -0.10033553,  0.46997628, -0.75040442, -1.33049024,\n",
              "         1.16946443, -0.97598297],\n",
              "       [ 0.73029674, -0.37492261, -1.05755428,  1.22674362, -0.79136757,\n",
              "         0.88328125, -0.24128328, -1.57505564,  1.33261475, -0.20894298,\n",
              "        -0.85509227, -0.83973677],\n",
              "       [ 0.73029674, -0.09801329, -1.05755428,  2.25671159, -0.79136757,\n",
              "        -0.80967447, -1.22791747, -1.57505564, -0.75040442, -1.23519538,\n",
              "         1.16946443, -0.6414037 ],\n",
              "       [ 0.73029674,  0.45580535,  0.94557794, -0.27139162, -0.79136757,\n",
              "        -0.80967447,  1.45008963,  0.46997628,  1.33261475, -0.50215795,\n",
              "         1.16946443, -0.26543318],\n",
              "       [-1.36930639,  0.86193902, -1.05755428, -0.64592543, -0.79136757,\n",
              "         0.88328125, -0.27792969, -1.57505564,  1.33261475,  1.47704309,\n",
              "        -0.85509227,  0.18987058],\n",
              "       [ 0.73029674, -1.57486299, -1.05755428, -1.20772614, -0.79136757,\n",
              "         0.88328125, -0.80507425, -1.57505564, -0.75040442, -0.86867666,\n",
              "         1.16946443, -0.32407078],\n",
              "       [-1.36930639, -0.43030447, -1.05755428,  0.02823543, -0.79136757,\n",
              "        -0.80967447, -0.94602199,  0.46997628, -0.75040442, -1.01088592,\n",
              "         1.16946443,  1.16601423],\n",
              "       [ 0.73029674, -0.31954074,  0.94557794,  1.58535974, -0.79136757,\n",
              "        -0.80967447,  0.70588555,  0.46997628, -0.75040442,  1.03722064,\n",
              "        -0.85509227, -0.47756333],\n",
              "       [-1.36930639, -0.09801329,  0.94557794,  0.29040909,  1.26363531,\n",
              "        -0.80967447, -0.24128328,  2.51500819, -0.75040442,  1.18382812,\n",
              "         1.16946443,  1.62821653],\n",
              "       [ 0.73029674, -0.55952882,  0.94557794,  0.00950874,  1.26363531,\n",
              "        -0.80967447, -1.22791747,  0.46997628, -0.75040442,  0.37748695,\n",
              "        -0.85509227, -1.93660491],\n",
              "       [ 0.73029674, -0.67029255,  0.94557794,  0.14059557,  1.26363531,\n",
              "        -0.80967447, -0.29766237,  0.46997628,  1.33261475,  0.79238614,\n",
              "        -0.85509227,  0.31404433],\n",
              "       [ 0.73029674, -0.55952882,  0.94557794,  0.477676  ,  1.26363531,\n",
              "        -0.80967447, -0.24128328,  0.46997628, -0.75040442, -0.35555047,\n",
              "        -0.85509227, -1.03979448],\n",
              "       [ 0.73029674,  0.82501778, -1.05755428,  0.75857636, -0.79136757,\n",
              "         0.88328125,  0.88629866, -1.57505564, -0.75040442,  0.59739818,\n",
              "        -0.85509227,  0.78142053],\n",
              "       [-1.36930639, -0.72290532,  0.94557794,  0.19677564,  1.26363531,\n",
              "         0.88328125, -0.10033553,  0.46997628, -0.75040442,  0.01096824,\n",
              "        -0.85509227, -0.52585313],\n",
              "       [ 0.73029674, -0.46722571, -1.05755428,  0.00950874, -0.79136757,\n",
              "         0.88328125, -0.38223102, -1.57505564, -0.75040442,  0.23087947,\n",
              "        -0.85509227,  0.67966704],\n",
              "       [ 0.73029674,  0.73271467,  0.94557794,  1.22674362,  1.26363531,\n",
              "         0.88328125,  1.59103738, -1.57505564,  1.33261475,  1.8435618 ,\n",
              "         1.16946443,  1.37297048],\n",
              "       [ 0.73029674,  0.45580535,  0.94557794,  1.03947671, -0.79136757,\n",
              "        -0.80967447, -0.24128328,  0.46997628,  1.33261475,  1.73067404,\n",
              "        -0.85509227, -0.0619262 ],\n",
              "       [ 0.73029674, -1.7594692 , -1.05755428, -2.61222792,  1.26363531,\n",
              "         0.88328125, -0.24128328,  2.51500819, -0.75040442, -0.64876544,\n",
              "        -0.85509227, -1.95040199],\n",
              "       [ 0.73029674, -1.26103243,  0.94557794, -0.54105596,  1.26363531,\n",
              "        -0.80967447, -1.48162341,  0.46997628, -0.75040442, -0.35555047,\n",
              "         1.16946443,  0.02258094],\n",
              "       [ 0.73029674, -0.92874124, -1.05755428, -0.64592543, -0.79136757,\n",
              "         0.88328125,  0.74535092, -1.57505564, -0.75040442,  0.15757573,\n",
              "        -0.85509227, -1.53476485],\n",
              "       [-1.36930639, -2.03637852, -1.05755428, -1.65716671, -0.79136757,\n",
              "        -0.80967447,  1.73198512,  0.46997628, -0.75040442,  0.17810078,\n",
              "        -0.85509227, -1.59167782],\n",
              "       [-1.36930639, -1.48255988, -1.05755428, -1.39499304, -0.79136757,\n",
              "         0.88328125, -1.6507607 , -1.57505564, -0.75040442, -0.35555047,\n",
              "         1.16946443, -0.55172266],\n",
              "       [ 0.73029674,  1.74804884,  0.94557794,  0.6649429 ,  1.26363531,\n",
              "         0.88328125, -0.24128328, -1.57505564,  1.33261475,  0.23087947,\n",
              "         1.16946443,  1.6851295 ],\n",
              "       [ 0.73029674,  0.4779581 , -1.05755428, -1.50454418, -0.79136757,\n",
              "         0.88328125, -0.34417513, -1.57505564,  1.33261475, -0.5754617 ,\n",
              "        -0.85509227,  0.64000042],\n",
              "       [ 0.73029674, -1.27949305,  0.94557794, -0.36502507, -0.79136757,\n",
              "         0.88328125, -1.22791747,  0.46997628, -0.75040442,  0.52409444,\n",
              "         1.16946443, -0.70349058],\n",
              "       [ 0.73029674, -1.48255988,  0.94557794, -0.45865852,  1.26363531,\n",
              "        -0.80967447, -1.79170844,  0.46997628, -0.75040442,  0.01096824,\n",
              "         1.16946443, -1.22605511],\n",
              "       [ 0.73029674,  0.17889603,  0.94557794, -0.36502507, -0.79136757,\n",
              "         0.88328125,  0.46345544, -1.57505564,  1.33261475, -1.23519538,\n",
              "        -0.85509227, -0.08952036],\n",
              "       [ 0.73029674, -1.57486299,  0.94557794, -2.14406066,  1.26363531,\n",
              "        -0.80967447, -1.36886522,  0.46997628, -0.75040442, -0.5754617 ,\n",
              "        -0.85509227, -1.90901074],\n",
              "       [-1.36930639, -2.12868163, -1.05755428, -0.92682578, -0.79136757,\n",
              "        -0.80967447, -1.22791747,  0.46997628,  1.33261475, -1.13330317,\n",
              "         1.16946443,  0.41924709],\n",
              "       [ 0.73029674,  0.27119914, -1.05755428,  1.13311016, -0.79136757,\n",
              "        -0.80967447, -0.10033553,  0.46997628,  1.33261475,  1.62365057,\n",
              "        -0.85509227, -0.85698313],\n",
              "       [-1.36930639,  1.00962399, -1.05755428,  0.85220981, -0.79136757,\n",
              "        -0.80967447,  2.57767157,  0.46997628, -0.75040442,  1.69695432,\n",
              "        -0.85509227,  1.12807225],\n",
              "       [ 0.73029674, -0.55952882,  0.94557794, -0.83319233, -0.79136757,\n",
              "         0.88328125, -1.93265619,  0.46997628, -0.75040442,  1.25713186,\n",
              "         1.16946443, -0.39650547],\n",
              "       [-1.36930639,  0.89886026,  0.94557794, -0.27139162,  1.26363531,\n",
              "         0.88328125, -0.35404147, -1.57505564, -0.75040442,  0.26753134,\n",
              "         1.16946443,  1.65925996],\n",
              "       [-1.36930639, -1.6671661 , -1.05755428, -2.79949482, -0.79136757,\n",
              "         2.57623697, -2.07360393,  2.51500819, -0.75040442, -0.50215795,\n",
              "         1.16946443, -1.10533063],\n",
              "       [ 0.73029674,  1.13884834,  0.94557794,  0.60876283,  1.26363531,\n",
              "         0.88328125,  1.55157201, -1.57505564,  1.33261475,  0.68536267,\n",
              "         1.16946443,  2.36980976],\n",
              "       [ 0.73029674,  0.08659293, -1.05755428, -0.17775817, -0.79136757,\n",
              "        -0.80967447, -1.36886522,  0.46997628, -0.75040442,  0.08427199,\n",
              "         1.16946443, -1.15879433],\n",
              "       [-1.36930639, -0.19031639,  0.94557794, -0.45865852,  1.26363531,\n",
              "        -0.80967447,  0.88629866,  0.46997628, -0.75040442, -1.01528415,\n",
              "         1.16946443,  0.3174936 ],\n",
              "       [ 0.73029674, -0.70721379,  0.94557794, -0.02794464, -0.79136757,\n",
              "         0.88328125, -0.24128328,  0.46997628, -0.75040442, -0.0623355 ,\n",
              "         1.16946443, -1.69170668],\n",
              "       [-1.36930639, -2.31328784,  0.94557794, -0.64592543, -0.79136757,\n",
              "         0.88328125, -0.24128328,  0.46997628, -0.75040442,  1.52542356,\n",
              "         1.16946443,  0.0691461 ],\n",
              "       [-1.36930639, -0.14416484, -1.05755428,  0.32786248,  1.26363531,\n",
              "         2.57623697,  0.73548458,  0.46997628, -0.75040442, -0.79537292,\n",
              "        -0.85509227,  0.30197188],\n",
              "       [-1.36930639,  0.91732089,  0.94557794,  0.94584326, -0.79136757,\n",
              "        -0.80967447,  1.87293286,  0.46997628, -0.75040442, -0.86867666,\n",
              "        -0.85509227,  0.72450756],\n",
              "       [ 0.73029674, -0.2826195 ,  0.94557794, -0.17775817,  1.26363531,\n",
              "        -0.80967447,  1.16819415,  0.46997628, -0.75040442,  0.81730941,\n",
              "        -0.85509227, -0.62933125],\n",
              "       [ 0.73029674, -0.09801329, -1.05755428, -0.55229197,  1.26363531,\n",
              "         0.88328125,  0.74535092,  0.46997628, -0.75040442,  0.01096824,\n",
              "        -0.85509227, -0.26025927],\n",
              "       [ 0.73029674, -1.11334746,  0.94557794, -1.39499304,  1.26363531,\n",
              "         0.88328125, -2.07360393, -1.57505564, -0.75040442, -0.42885421,\n",
              "         1.16946443, -0.53275167],\n",
              "       [-1.36930639,  0.63118125, -1.05755428, -0.92682578, -0.79136757,\n",
              "         0.88328125, -0.6641265 ,  2.51500819,  1.33261475,  0.59739818,\n",
              "        -0.85509227, -0.29992588],\n",
              "       [-1.36930639,  0.08659293,  0.94557794,  1.03947671,  1.26363531,\n",
              "        -0.80967447,  0.74535092,  0.46997628, -0.75040442, -0.0623355 ,\n",
              "         1.16946443,  0.03810266],\n",
              "       [ 0.73029674,  1.28653331,  0.94557794, -0.27139162,  1.26363531,\n",
              "         0.88328125, -0.10033553, -1.57505564,  1.33261475, -0.35555047,\n",
              "        -0.85509227, -0.06537547],\n",
              "       [-1.36930639,  0.82501778,  0.94557794,  1.78854433,  1.26363531,\n",
              "         2.57623697, -1.50981296,  2.51500819, -0.75040442, -1.08858789,\n",
              "        -0.85509227,  0.26920381],\n",
              "       [-1.36930639, -0.37492261,  0.94557794,  0.00950874, -0.79136757,\n",
              "         0.88328125,  0.40707634, -1.57505564,  1.33261475, -1.18608187,\n",
              "         1.16946443,  1.54715866],\n",
              "       [ 0.73029674, -1.29795367, -1.05755428, -1.8631603 , -0.79136757,\n",
              "         0.88328125, -1.36886522,  0.46997628, -0.75040442,  1.30771144,\n",
              "         1.16946443, -0.93459172],\n",
              "       [ 0.73029674,  0.54810846,  0.94557794, -0.45865852, -0.79136757,\n",
              "         0.88328125,  0.18155995,  0.46997628, -0.75040442,  0.15757573,\n",
              "        -0.85509227, -0.78109917]])"
            ]
          },
          "metadata": {
            "tags": []
          },
          "execution_count": 268
        }
      ]
    },
    {
      "cell_type": "markdown",
      "metadata": {
        "id": "9wMELKbMkmrA"
      },
      "source": [
        "**LETS START USING ALGORITHMS**"
      ]
    },
    {
      "cell_type": "markdown",
      "metadata": {
        "id": "xrcPueqYlE1i"
      },
      "source": [
        "**ALGORITHM 1: LogisticRegression**"
      ]
    },
    {
      "cell_type": "code",
      "metadata": {
        "id": "9XoZUJZskljq"
      },
      "source": [
        "from sklearn.linear_model import LogisticRegression"
      ],
      "execution_count": null,
      "outputs": []
    },
    {
      "cell_type": "code",
      "metadata": {
        "id": "_cnhVuW5lH7b"
      },
      "source": [
        "lr=LogisticRegression()"
      ],
      "execution_count": null,
      "outputs": []
    },
    {
      "cell_type": "code",
      "metadata": {
        "colab": {
          "base_uri": "https://localhost:8080/"
        },
        "id": "Acp_AlPSlJjg",
        "outputId": "7c1881a2-672f-45ef-e2fb-9d74e85a56f3"
      },
      "source": [
        "lr.fit(xtrain,ytrain)"
      ],
      "execution_count": null,
      "outputs": [
        {
          "output_type": "execute_result",
          "data": {
            "text/plain": [
              "LogisticRegression(C=1.0, class_weight=None, dual=False, fit_intercept=True,\n",
              "                   intercept_scaling=1, l1_ratio=None, max_iter=100,\n",
              "                   multi_class='auto', n_jobs=None, penalty='l2',\n",
              "                   random_state=None, solver='lbfgs', tol=0.0001, verbose=0,\n",
              "                   warm_start=False)"
            ]
          },
          "metadata": {
            "tags": []
          },
          "execution_count": 271
        }
      ]
    },
    {
      "cell_type": "code",
      "metadata": {
        "id": "uNO6NyyalLKf"
      },
      "source": [
        "pred1=lr.predict(xtest)"
      ],
      "execution_count": null,
      "outputs": []
    },
    {
      "cell_type": "code",
      "metadata": {
        "id": "u119hZzYlNi2"
      },
      "source": [
        "accuracy1=lr.score(xtest,ytest)"
      ],
      "execution_count": null,
      "outputs": []
    },
    {
      "cell_type": "code",
      "metadata": {
        "id": "k5CFJVYRlPa2"
      },
      "source": [
        "from sklearn.metrics import confusion_matrix"
      ],
      "execution_count": null,
      "outputs": []
    },
    {
      "cell_type": "code",
      "metadata": {
        "id": "jRiJRkWblRU0"
      },
      "source": [
        "cm1=confusion_matrix(ytest,pred1)"
      ],
      "execution_count": null,
      "outputs": []
    },
    {
      "cell_type": "code",
      "metadata": {
        "colab": {
          "base_uri": "https://localhost:8080/"
        },
        "id": "Bu4vMGW0lWmt",
        "outputId": "21b8a705-da88-4a0d-9ddd-eaa6c5d6c49c"
      },
      "source": [
        "print(\"The Accuracy Of Logistic Regression is {}\".format(accuracy1*100))\n",
        "print(\"Confusion Matrix of Logistic Regression is \")\n",
        "print(cm1)"
      ],
      "execution_count": null,
      "outputs": [
        {
          "output_type": "stream",
          "text": [
            "The Accuracy Of Logistic Regression is 94.44444444444444\n",
            "Confusion Matrix of Logistic Regression is \n",
            "[[18  1]\n",
            " [ 2 33]]\n"
          ],
          "name": "stdout"
        }
      ]
    },
    {
      "cell_type": "markdown",
      "metadata": {
        "id": "1CPubtY-lme9"
      },
      "source": [
        "**ALGORITHM 2: Decision Tree Classifier**"
      ]
    },
    {
      "cell_type": "code",
      "metadata": {
        "id": "my5W618rlcRX"
      },
      "source": [
        "from sklearn.tree import DecisionTreeClassifier"
      ],
      "execution_count": null,
      "outputs": []
    },
    {
      "cell_type": "code",
      "metadata": {
        "id": "CZ5nxoQXlrRd"
      },
      "source": [
        "dt=DecisionTreeClassifier()"
      ],
      "execution_count": null,
      "outputs": []
    },
    {
      "cell_type": "code",
      "metadata": {
        "colab": {
          "base_uri": "https://localhost:8080/"
        },
        "id": "emk5Pr9Pls2p",
        "outputId": "f50a690b-4a3a-4766-e7de-5074ec72d946"
      },
      "source": [
        "dt.fit(xtrain,ytrain)"
      ],
      "execution_count": null,
      "outputs": [
        {
          "output_type": "execute_result",
          "data": {
            "text/plain": [
              "DecisionTreeClassifier(ccp_alpha=0.0, class_weight=None, criterion='gini',\n",
              "                       max_depth=None, max_features=None, max_leaf_nodes=None,\n",
              "                       min_impurity_decrease=0.0, min_impurity_split=None,\n",
              "                       min_samples_leaf=1, min_samples_split=2,\n",
              "                       min_weight_fraction_leaf=0.0, presort='deprecated',\n",
              "                       random_state=None, splitter='best')"
            ]
          },
          "metadata": {
            "tags": []
          },
          "execution_count": 279
        }
      ]
    },
    {
      "cell_type": "code",
      "metadata": {
        "id": "f0-exKL-luj8"
      },
      "source": [
        "pred2=dt.predict(xtest)"
      ],
      "execution_count": null,
      "outputs": []
    },
    {
      "cell_type": "code",
      "metadata": {
        "id": "Qm0_Hm3Ylwby"
      },
      "source": [
        "accuracy2=dt.score(xtest,ytest)"
      ],
      "execution_count": null,
      "outputs": []
    },
    {
      "cell_type": "code",
      "metadata": {
        "id": "mvCmatCJlyiK"
      },
      "source": [
        "cm2=confusion_matrix(ytest,pred2)"
      ],
      "execution_count": null,
      "outputs": []
    },
    {
      "cell_type": "code",
      "metadata": {
        "colab": {
          "base_uri": "https://localhost:8080/"
        },
        "id": "xttYbdryl3VX",
        "outputId": "bdf1bdd9-ea57-4850-905d-575744a04536"
      },
      "source": [
        "print(\"The Accuracy Of DecisionTreeClassifier is {}\".format(accuracy2*100))\n",
        "print(\"Confusion Matrix of DecisionTreeClassifieris \")\n",
        "print(cm2)"
      ],
      "execution_count": null,
      "outputs": [
        {
          "output_type": "stream",
          "text": [
            "The Accuracy Of DecisionTreeClassifier is 79.62962962962963\n",
            "Confusion Matrix of DecisionTreeClassifieris \n",
            "[[13  6]\n",
            " [ 5 30]]\n"
          ],
          "name": "stdout"
        }
      ]
    },
    {
      "cell_type": "markdown",
      "metadata": {
        "id": "rBi44ZpWmIm6"
      },
      "source": [
        "**ALGORITHM 3: RANDOM FOREST CLASSIFIER**"
      ]
    },
    {
      "cell_type": "code",
      "metadata": {
        "id": "poMVWrk4l602"
      },
      "source": [
        "from sklearn.ensemble import RandomForestClassifier"
      ],
      "execution_count": null,
      "outputs": []
    },
    {
      "cell_type": "code",
      "metadata": {
        "id": "4k8xmoVkmE9R"
      },
      "source": [
        "rf=RandomForestClassifier()"
      ],
      "execution_count": null,
      "outputs": []
    },
    {
      "cell_type": "code",
      "metadata": {
        "colab": {
          "base_uri": "https://localhost:8080/"
        },
        "id": "U28qy8Q0mXaR",
        "outputId": "218843e2-ad8b-425e-c379-a35ccbfcf70b"
      },
      "source": [
        "rf.fit(xtrain,ytrain)"
      ],
      "execution_count": null,
      "outputs": [
        {
          "output_type": "execute_result",
          "data": {
            "text/plain": [
              "RandomForestClassifier(bootstrap=True, ccp_alpha=0.0, class_weight=None,\n",
              "                       criterion='gini', max_depth=None, max_features='auto',\n",
              "                       max_leaf_nodes=None, max_samples=None,\n",
              "                       min_impurity_decrease=0.0, min_impurity_split=None,\n",
              "                       min_samples_leaf=1, min_samples_split=2,\n",
              "                       min_weight_fraction_leaf=0.0, n_estimators=100,\n",
              "                       n_jobs=None, oob_score=False, random_state=None,\n",
              "                       verbose=0, warm_start=False)"
            ]
          },
          "metadata": {
            "tags": []
          },
          "execution_count": 286
        }
      ]
    },
    {
      "cell_type": "code",
      "metadata": {
        "id": "nkl85_x-mZU3"
      },
      "source": [
        "pred3=rf.predict(xtest)"
      ],
      "execution_count": null,
      "outputs": []
    },
    {
      "cell_type": "code",
      "metadata": {
        "id": "biXP5kTImbG_"
      },
      "source": [
        "accuracy3=rf.score(xtest,ytest)"
      ],
      "execution_count": null,
      "outputs": []
    },
    {
      "cell_type": "code",
      "metadata": {
        "id": "HoYSZtKmmc7y"
      },
      "source": [
        "cm3=confusion_matrix(ytest,pred3)"
      ],
      "execution_count": null,
      "outputs": []
    },
    {
      "cell_type": "code",
      "metadata": {
        "colab": {
          "base_uri": "https://localhost:8080/"
        },
        "id": "PwazvnYlmehH",
        "outputId": "6e1fbbb8-731f-4fd7-db1e-8669d1d2afb8"
      },
      "source": [
        "print(\"The Accuracy Of RandomForestClassifier is {}\".format(accuracy3*100))\n",
        "print(\"Confusion Matrix of RandomForestClassifier is \")\n",
        "print(cm3)"
      ],
      "execution_count": null,
      "outputs": [
        {
          "output_type": "stream",
          "text": [
            "The Accuracy Of RandomForestClassifier is 94.44444444444444\n",
            "Confusion Matrix of RandomForestClassifier is \n",
            "[[18  1]\n",
            " [ 2 33]]\n"
          ],
          "name": "stdout"
        }
      ]
    },
    {
      "cell_type": "markdown",
      "metadata": {
        "id": "qra_f3Mamkg-"
      },
      "source": [
        "**ALGORITHM 4: K-Nearest Neighbor**"
      ]
    },
    {
      "cell_type": "code",
      "metadata": {
        "id": "9-Cdu-24mi1o"
      },
      "source": [
        "from sklearn.neighbors import KNeighborsClassifier"
      ],
      "execution_count": null,
      "outputs": []
    },
    {
      "cell_type": "code",
      "metadata": {
        "id": "f3zEmdQnmqGZ"
      },
      "source": [
        "kn=KNeighborsClassifier(n_neighbors=3)"
      ],
      "execution_count": null,
      "outputs": []
    },
    {
      "cell_type": "code",
      "metadata": {
        "colab": {
          "base_uri": "https://localhost:8080/"
        },
        "id": "col9QAQkmsCl",
        "outputId": "c3c1b936-9a5b-4472-dfdf-02ef7383c95e"
      },
      "source": [
        "kn.fit(xtrain,ytrain)"
      ],
      "execution_count": null,
      "outputs": [
        {
          "output_type": "execute_result",
          "data": {
            "text/plain": [
              "KNeighborsClassifier(algorithm='auto', leaf_size=30, metric='minkowski',\n",
              "                     metric_params=None, n_jobs=None, n_neighbors=3, p=2,\n",
              "                     weights='uniform')"
            ]
          },
          "metadata": {
            "tags": []
          },
          "execution_count": 293
        }
      ]
    },
    {
      "cell_type": "code",
      "metadata": {
        "id": "SX2h9HNymxbP"
      },
      "source": [
        "pred4=kn.predict(xtest)"
      ],
      "execution_count": null,
      "outputs": []
    },
    {
      "cell_type": "code",
      "metadata": {
        "id": "OwTIVLKYm2Wg"
      },
      "source": [
        "accuracy4=kn.score(xtest,ytest)"
      ],
      "execution_count": null,
      "outputs": []
    },
    {
      "cell_type": "code",
      "metadata": {
        "id": "vuXc0iGKm3wp"
      },
      "source": [
        "cm4=confusion_matrix(ytest,pred4)"
      ],
      "execution_count": null,
      "outputs": []
    },
    {
      "cell_type": "code",
      "metadata": {
        "colab": {
          "base_uri": "https://localhost:8080/"
        },
        "id": "sMI_PxMqm6GZ",
        "outputId": "dc19a880-ec6b-4bea-d9db-f423e923496b"
      },
      "source": [
        "print(\"The Accuracy Of KNeighborsClassifier is {}\".format(accuracy4*100))\n",
        "print(\"Confusion Matrix ofKNeighbors Classifier is \")\n",
        "print(cm4)"
      ],
      "execution_count": null,
      "outputs": [
        {
          "output_type": "stream",
          "text": [
            "The Accuracy Of KNeighborsClassifier is 81.48148148148148\n",
            "Confusion Matrix ofKNeighbors Classifier is \n",
            "[[15  4]\n",
            " [ 6 29]]\n"
          ],
          "name": "stdout"
        }
      ]
    },
    {
      "cell_type": "markdown",
      "metadata": {
        "id": "xEOF9O7HnH02"
      },
      "source": [
        "**ALGORITHM 5:Support Vector Machine**"
      ]
    },
    {
      "cell_type": "code",
      "metadata": {
        "id": "x63JLZ2Wm_-E"
      },
      "source": [
        "from sklearn.svm import SVC"
      ],
      "execution_count": null,
      "outputs": []
    },
    {
      "cell_type": "code",
      "metadata": {
        "id": "2ufOz0rDnLI3"
      },
      "source": [
        "svc=SVC()"
      ],
      "execution_count": null,
      "outputs": []
    },
    {
      "cell_type": "code",
      "metadata": {
        "colab": {
          "base_uri": "https://localhost:8080/"
        },
        "id": "OnqEoXB7nN8F",
        "outputId": "1cdaa876-b1fa-478e-a252-4852451cbcc5"
      },
      "source": [
        "svc.fit(xtrain,ytrain)"
      ],
      "execution_count": null,
      "outputs": [
        {
          "output_type": "execute_result",
          "data": {
            "text/plain": [
              "SVC(C=1.0, break_ties=False, cache_size=200, class_weight=None, coef0=0.0,\n",
              "    decision_function_shape='ovr', degree=3, gamma='scale', kernel='rbf',\n",
              "    max_iter=-1, probability=False, random_state=None, shrinking=True,\n",
              "    tol=0.001, verbose=False)"
            ]
          },
          "metadata": {
            "tags": []
          },
          "execution_count": 300
        }
      ]
    },
    {
      "cell_type": "code",
      "metadata": {
        "id": "AxKjwX2wnP74"
      },
      "source": [
        "pred5=svc.predict(xtest)"
      ],
      "execution_count": null,
      "outputs": []
    },
    {
      "cell_type": "code",
      "metadata": {
        "id": "FkwZFivhnRxu"
      },
      "source": [
        "accuracy5=svc.score(xtest,ytest)"
      ],
      "execution_count": null,
      "outputs": []
    },
    {
      "cell_type": "code",
      "metadata": {
        "id": "CckdyySCnTp_"
      },
      "source": [
        "cm5=confusion_matrix(ytest,pred5)"
      ],
      "execution_count": null,
      "outputs": []
    },
    {
      "cell_type": "code",
      "metadata": {
        "colab": {
          "base_uri": "https://localhost:8080/"
        },
        "id": "Ig0DFoPunX2B",
        "outputId": "df7fc456-c8fd-489b-eef5-d423ebedafe4"
      },
      "source": [
        "print(\"The Accuracy Of Support Vector Machine Classifier is {}\".format(accuracy5*100))\n",
        "print(\"Confusion Matrix of Support Vector MachineClassifier is \")\n",
        "print(cm5)"
      ],
      "execution_count": null,
      "outputs": [
        {
          "output_type": "stream",
          "text": [
            "The Accuracy Of Support Vector Machine Classifier is 92.5925925925926\n",
            "Confusion Matrix of Support Vector MachineClassifier is \n",
            "[[17  2]\n",
            " [ 2 33]]\n"
          ],
          "name": "stdout"
        }
      ]
    },
    {
      "cell_type": "markdown",
      "metadata": {
        "id": "H_SscBvUndNb"
      },
      "source": [
        "**ALGORITHM 6:Support Vector Machine with Linear Kernel**"
      ]
    },
    {
      "cell_type": "code",
      "metadata": {
        "id": "MFDDUaj5nbKA"
      },
      "source": [
        "svc1=SVC(kernel=\"linear\")"
      ],
      "execution_count": null,
      "outputs": []
    },
    {
      "cell_type": "code",
      "metadata": {
        "colab": {
          "base_uri": "https://localhost:8080/"
        },
        "id": "oZFZqz6Wnpse",
        "outputId": "f6d73a73-e6f4-446f-aaf0-a0e148fd1112"
      },
      "source": [
        "svc1.fit(xtrain,ytrain)"
      ],
      "execution_count": null,
      "outputs": [
        {
          "output_type": "execute_result",
          "data": {
            "text/plain": [
              "SVC(C=1.0, break_ties=False, cache_size=200, class_weight=None, coef0=0.0,\n",
              "    decision_function_shape='ovr', degree=3, gamma='scale', kernel='linear',\n",
              "    max_iter=-1, probability=False, random_state=None, shrinking=True,\n",
              "    tol=0.001, verbose=False)"
            ]
          },
          "metadata": {
            "tags": []
          },
          "execution_count": 306
        }
      ]
    },
    {
      "cell_type": "code",
      "metadata": {
        "id": "IZYTRJwunrnC"
      },
      "source": [
        "pred6=svc1.predict(xtest)"
      ],
      "execution_count": null,
      "outputs": []
    },
    {
      "cell_type": "code",
      "metadata": {
        "id": "2sA49TxVnu_4"
      },
      "source": [
        "accuracy6=svc1.score(xtest,ytest)"
      ],
      "execution_count": null,
      "outputs": []
    },
    {
      "cell_type": "code",
      "metadata": {
        "id": "02dqQnDbnyFO"
      },
      "source": [
        "cm6=confusion_matrix(ytest,pred6)"
      ],
      "execution_count": null,
      "outputs": []
    },
    {
      "cell_type": "code",
      "metadata": {
        "colab": {
          "base_uri": "https://localhost:8080/"
        },
        "id": "WNq9pcdHn2a5",
        "outputId": "fd446e04-cf33-431c-e6ab-651df81ecbe0"
      },
      "source": [
        "print(\"The Accuracy Of Support Vector Machine Classifier is {}\".format(accuracy6*100))\n",
        "print(\"Confusion Matrix of Support Vector MachineClassifier is \")\n",
        "print(cm6)"
      ],
      "execution_count": null,
      "outputs": [
        {
          "output_type": "stream",
          "text": [
            "The Accuracy Of Support Vector Machine Classifier is 92.5925925925926\n",
            "Confusion Matrix of Support Vector MachineClassifier is \n",
            "[[17  2]\n",
            " [ 2 33]]\n"
          ],
          "name": "stdout"
        }
      ]
    },
    {
      "cell_type": "markdown",
      "metadata": {
        "id": "w144y3eJoD9V"
      },
      "source": [
        "**ALGORITHM 7:Support Vector Machine with rbf Kernel**"
      ]
    },
    {
      "cell_type": "code",
      "metadata": {
        "id": "DiguXpkpn9aC"
      },
      "source": [
        "svc2=SVC(kernel=\"rbf\")"
      ],
      "execution_count": null,
      "outputs": []
    },
    {
      "cell_type": "code",
      "metadata": {
        "colab": {
          "base_uri": "https://localhost:8080/"
        },
        "id": "SN0l4D_yoMeh",
        "outputId": "95ad3a76-21c8-46e4-ab96-7d36cdf180d5"
      },
      "source": [
        "svc2.fit(xtrain,ytrain)"
      ],
      "execution_count": null,
      "outputs": [
        {
          "output_type": "execute_result",
          "data": {
            "text/plain": [
              "SVC(C=1.0, break_ties=False, cache_size=200, class_weight=None, coef0=0.0,\n",
              "    decision_function_shape='ovr', degree=3, gamma='scale', kernel='rbf',\n",
              "    max_iter=-1, probability=False, random_state=None, shrinking=True,\n",
              "    tol=0.001, verbose=False)"
            ]
          },
          "metadata": {
            "tags": []
          },
          "execution_count": 312
        }
      ]
    },
    {
      "cell_type": "code",
      "metadata": {
        "id": "Odxk8FYuoRH9"
      },
      "source": [
        "pred7=svc2.predict(xtest)"
      ],
      "execution_count": null,
      "outputs": []
    },
    {
      "cell_type": "code",
      "metadata": {
        "id": "tWoKDyQ6oUzJ"
      },
      "source": [
        "accuracy7=svc2.score(xtest,ytest)"
      ],
      "execution_count": null,
      "outputs": []
    },
    {
      "cell_type": "code",
      "metadata": {
        "id": "Pj0u2Y40oYCP"
      },
      "source": [
        "cm7=confusion_matrix(ytest,pred7)"
      ],
      "execution_count": null,
      "outputs": []
    },
    {
      "cell_type": "code",
      "metadata": {
        "colab": {
          "base_uri": "https://localhost:8080/"
        },
        "id": "3LodVtJMobGh",
        "outputId": "0c219359-1edb-4f4e-a057-a43f141b0ded"
      },
      "source": [
        "print(\"The Accuracy Of Support Vector Machine Classifier is {}\".format(accuracy7*100))\n",
        "print(\"Confusion Matrix of Support Vector MachineClassifier is \")\n",
        "print(cm7)"
      ],
      "execution_count": null,
      "outputs": [
        {
          "output_type": "stream",
          "text": [
            "The Accuracy Of Support Vector Machine Classifier is 92.5925925925926\n",
            "Confusion Matrix of Support Vector MachineClassifier is \n",
            "[[17  2]\n",
            " [ 2 33]]\n"
          ],
          "name": "stdout"
        }
      ]
    },
    {
      "cell_type": "markdown",
      "metadata": {
        "id": "nFI-sKmKo6rz"
      },
      "source": [
        "**PLOTTING GRAPH OF VARIOUS ACCURACY**"
      ]
    },
    {
      "cell_type": "code",
      "metadata": {
        "id": "skOqaJ9io1zU"
      },
      "source": [
        "algorithm=['Logistic_regression','Decison Tree Classifier','RandomForestClassifier','KNN','SVM classifier','SVM Linear Kernel','SVM RBF Kernel']\n",
        "accuracy_of_models= [accuracy1,accuracy2,accuracy3,accuracy4,accuracy5,accuracy6,accuracy7]"
      ],
      "execution_count": null,
      "outputs": []
    },
    {
      "cell_type": "code",
      "metadata": {
        "colab": {
          "base_uri": "https://localhost:8080/"
        },
        "id": "ryAWlHedpPWz",
        "outputId": "98ec58c6-30d2-4c97-e99b-089bb8eea57c"
      },
      "source": [
        "for a in accuracy_of_models:\n",
        "  print(\"ACCURACY {}\".format(a*100))"
      ],
      "execution_count": null,
      "outputs": [
        {
          "output_type": "stream",
          "text": [
            "ACCURACY 94.44444444444444\n",
            "ACCURACY 79.62962962962963\n",
            "ACCURACY 94.44444444444444\n",
            "ACCURACY 81.48148148148148\n",
            "ACCURACY 92.5925925925926\n",
            "ACCURACY 92.5925925925926\n",
            "ACCURACY 92.5925925925926\n"
          ],
          "name": "stdout"
        }
      ]
    },
    {
      "cell_type": "markdown",
      "metadata": {
        "id": "thdKdQSwpX_a"
      },
      "source": [
        "**94% ACCURACY IS THE HIGHEST ACCURACY I HAVE GOT WITH THESE ALGORITHMS**"
      ]
    },
    {
      "cell_type": "code",
      "metadata": {
        "colab": {
          "base_uri": "https://localhost:8080/",
          "height": 834
        },
        "id": "1wV5EenNpSv_",
        "outputId": "5e453d09-79eb-4174-ddfb-ffbf2d4c4ca2"
      },
      "source": [
        "colors=[\"red\",\"blue\",\"yellow\",\"green\",\"orange\"] \n",
        "plt.figure(figsize=(60, 35))   \n",
        "plt.bar(algorithm,accuracy_of_models,color=colors)    \n",
        "plt.title('COMPARISON OF ACCURACY')    \n",
        "plt.xlabel('ALGORITHMS')    \n",
        "plt.ylabel('ACCURACY OF MODELS')  \n",
        "matplotlib.rc('xtick', labelsize=15) \n",
        "matplotlib.rc('ytick', labelsize=15) \n",
        "plt.show() "
      ],
      "execution_count": null,
      "outputs": [
        {
          "output_type": "display_data",
          "data": {
            "image/png": "[encoded data removed]",
            "text/plain": [
              "<Figure size 4320x2520 with 1 Axes>"
            ]
          },
          "metadata": {
            "tags": [],
            "needs_background": "light"
          }
        }
      ]
    },
    {
      "cell_type": "code",
      "metadata": {
        "id": "0-H7riuWrfWx"
      },
      "source": [
        ""
      ],
      "execution_count": null,
      "outputs": []
    },
    {
      "cell_type": "markdown",
      "metadata": {
        "id": "idQ6qGB1rfyO"
      },
      "source": [
        "## **CONCLUSION: THE \" Logistic_Regression and Random Forest Classifier\" 94% accuracy which is the best fit algorithm for this training data. But feature engineering can be done to identify the important features and use different algorithms to yield more higher accuracy.**"
      ]
    },
    {
      "cell_type": "code",
      "metadata": {
        "id": "uEQrQPUNsAxT"
      },
      "source": [
        ""
      ],
      "execution_count": null,
      "outputs": []
    }
  ]
}